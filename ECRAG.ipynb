{
  "cells": [
    {
      "cell_type": "markdown",
      "metadata": {
        "id": "view-in-github",
        "colab_type": "text"
      },
      "source": [
        "<a href=\"https://colab.research.google.com/github/BobGanti/ColabNotebooks/blob/main/ECRAG.ipynb\" target=\"_parent\"><img src=\"https://colab.research.google.com/assets/colab-badge.svg\" alt=\"Open In Colab\"/></a>"
      ]
    },
    {
      "cell_type": "markdown",
      "metadata": {
        "id": "BqyWMYpXfP0Q"
      },
      "source": [
        "# Implementation For CRAG <br>(Corrective Retrieval Augmentation Generation)"
      ]
    },
    {
      "cell_type": "markdown",
      "metadata": {
        "id": "GE1fIXW-d5Cx"
      },
      "source": [
        "### Required Libraries"
      ]
    },
    {
      "cell_type": "markdown",
      "metadata": {
        "id": "xWvCtQu9c3MI"
      },
      "source": [
        "### Mounting the drive and setting up the environment variables (Colab specific)"
      ]
    },
    {
      "cell_type": "code",
      "source": [
        "!pip install -q \\\n",
        "torch==2.0.1 torchvision==0.15.2 torchaudio==2.0.2 pyarrow==14.0.1 datasets==2.13.0 \\\n",
        "dill \\\n",
        "openai \\\n",
        "requests \\\n",
        "datasets \\\n",
        "accelerate \\\n",
        "beautifulsoup4 \\\n",
        "PyPDF2 PyMuPDF \\\n",
        "faiss-cpu faiss-gpu \\\n",
        "google-api-python-client \\\n",
        "transformers sentence-transformers sentencepiece rank-bm25\n"
      ],
      "metadata": {
        "id": "YRgHs2ZtcmSa",
        "colab": {
          "base_uri": "https://localhost:8080/"
        },
        "outputId": "65d5bf89-dfc2-48da-8b51-de6f142e9255"
      },
      "execution_count": 1,
      "outputs": [
        {
          "output_type": "stream",
          "name": "stdout",
          "text": [
            "\u001b[2K   \u001b[90m━━━━━━━━━━━━━━━━━━━━━━━━━━━━━━━━━━━━━━━━\u001b[0m \u001b[32m619.9/619.9 MB\u001b[0m \u001b[31m1.5 MB/s\u001b[0m eta \u001b[36m0:00:00\u001b[0m\n",
            "\u001b[2K   \u001b[90m━━━━━━━━━━━━━━━━━━━━━━━━━━━━━━━━━━━━━━━━\u001b[0m \u001b[32m6.0/6.0 MB\u001b[0m \u001b[31m89.1 MB/s\u001b[0m eta \u001b[36m0:00:00\u001b[0m\n",
            "\u001b[2K   \u001b[90m━━━━━━━━━━━━━━━━━━━━━━━━━━━━━━━━━━━━━━━━\u001b[0m \u001b[32m4.4/4.4 MB\u001b[0m \u001b[31m106.4 MB/s\u001b[0m eta \u001b[36m0:00:00\u001b[0m\n",
            "\u001b[2K   \u001b[90m━━━━━━━━━━━━━━━━━━━━━━━━━━━━━━━━━━━━━━━━\u001b[0m \u001b[32m38.0/38.0 MB\u001b[0m \u001b[31m14.3 MB/s\u001b[0m eta \u001b[36m0:00:00\u001b[0m\n",
            "\u001b[2K   \u001b[90m━━━━━━━━━━━━━━━━━━━━━━━━━━━━━━━━━━━━━━━━\u001b[0m \u001b[32m485.6/485.6 kB\u001b[0m \u001b[31m31.3 MB/s\u001b[0m eta \u001b[36m0:00:00\u001b[0m\n",
            "\u001b[2K   \u001b[90m━━━━━━━━━━━━━━━━━━━━━━━━━━━━━━━━━━━━━━━━\u001b[0m \u001b[32m317.1/317.1 MB\u001b[0m \u001b[31m1.3 MB/s\u001b[0m eta \u001b[36m0:00:00\u001b[0m\n",
            "\u001b[2K   \u001b[90m━━━━━━━━━━━━━━━━━━━━━━━━━━━━━━━━━━━━━━━━\u001b[0m \u001b[32m11.8/11.8 MB\u001b[0m \u001b[31m97.8 MB/s\u001b[0m eta \u001b[36m0:00:00\u001b[0m\n",
            "\u001b[2K   \u001b[90m━━━━━━━━━━━━━━━━━━━━━━━━━━━━━━━━━━━━━━━━\u001b[0m \u001b[32m21.0/21.0 MB\u001b[0m \u001b[31m83.0 MB/s\u001b[0m eta \u001b[36m0:00:00\u001b[0m\n",
            "\u001b[2K   \u001b[90m━━━━━━━━━━━━━━━━━━━━━━━━━━━━━━━━━━━━━━━━\u001b[0m \u001b[32m849.3/849.3 kB\u001b[0m \u001b[31m51.4 MB/s\u001b[0m eta \u001b[36m0:00:00\u001b[0m\n",
            "\u001b[2K   \u001b[90m━━━━━━━━━━━━━━━━━━━━━━━━━━━━━━━━━━━━━━━━\u001b[0m \u001b[32m557.1/557.1 MB\u001b[0m \u001b[31m3.3 MB/s\u001b[0m eta \u001b[36m0:00:00\u001b[0m\n",
            "\u001b[2K   \u001b[90m━━━━━━━━━━━━━━━━━━━━━━━━━━━━━━━━━━━━━━━━\u001b[0m \u001b[32m168.4/168.4 MB\u001b[0m \u001b[31m8.7 MB/s\u001b[0m eta \u001b[36m0:00:00\u001b[0m\n",
            "\u001b[2K   \u001b[90m━━━━━━━━━━━━━━━━━━━━━━━━━━━━━━━━━━━━━━━━\u001b[0m \u001b[32m54.6/54.6 MB\u001b[0m \u001b[31m14.1 MB/s\u001b[0m eta \u001b[36m0:00:00\u001b[0m\n",
            "\u001b[2K   \u001b[90m━━━━━━━━━━━━━━━━━━━━━━━━━━━━━━━━━━━━━━━━\u001b[0m \u001b[32m102.6/102.6 MB\u001b[0m \u001b[31m8.8 MB/s\u001b[0m eta \u001b[36m0:00:00\u001b[0m\n",
            "\u001b[2K   \u001b[90m━━━━━━━━━━━━━━━━━━━━━━━━━━━━━━━━━━━━━━━━\u001b[0m \u001b[32m173.2/173.2 MB\u001b[0m \u001b[31m6.4 MB/s\u001b[0m eta \u001b[36m0:00:00\u001b[0m\n",
            "\u001b[2K   \u001b[90m━━━━━━━━━━━━━━━━━━━━━━━━━━━━━━━━━━━━━━━━\u001b[0m \u001b[32m177.1/177.1 MB\u001b[0m \u001b[31m6.6 MB/s\u001b[0m eta \u001b[36m0:00:00\u001b[0m\n",
            "\u001b[2K   \u001b[90m━━━━━━━━━━━━━━━━━━━━━━━━━━━━━━━━━━━━━━━━\u001b[0m \u001b[32m98.6/98.6 kB\u001b[0m \u001b[31m8.1 MB/s\u001b[0m eta \u001b[36m0:00:00\u001b[0m\n",
            "\u001b[2K   \u001b[90m━━━━━━━━━━━━━━━━━━━━━━━━━━━━━━━━━━━━━━━━\u001b[0m \u001b[32m63.3/63.3 MB\u001b[0m \u001b[31m12.7 MB/s\u001b[0m eta \u001b[36m0:00:00\u001b[0m\n",
            "\u001b[2K   \u001b[90m━━━━━━━━━━━━━━━━━━━━━━━━━━━━━━━━━━━━━━━━\u001b[0m \u001b[32m110.5/110.5 kB\u001b[0m \u001b[31m9.2 MB/s\u001b[0m eta \u001b[36m0:00:00\u001b[0m\n",
            "\u001b[2K   \u001b[90m━━━━━━━━━━━━━━━━━━━━━━━━━━━━━━━━━━━━━━━━\u001b[0m \u001b[32m383.7/383.7 kB\u001b[0m \u001b[31m30.0 MB/s\u001b[0m eta \u001b[36m0:00:00\u001b[0m\n",
            "\u001b[2K   \u001b[90m━━━━━━━━━━━━━━━━━━━━━━━━━━━━━━━━━━━━━━━━\u001b[0m \u001b[32m232.6/232.6 kB\u001b[0m \u001b[31m21.1 MB/s\u001b[0m eta \u001b[36m0:00:00\u001b[0m\n",
            "\u001b[2K   \u001b[90m━━━━━━━━━━━━━━━━━━━━━━━━━━━━━━━━━━━━━━━━\u001b[0m \u001b[32m19.6/19.6 MB\u001b[0m \u001b[31m92.2 MB/s\u001b[0m eta \u001b[36m0:00:00\u001b[0m\n",
            "\u001b[2K   \u001b[90m━━━━━━━━━━━━━━━━━━━━━━━━━━━━━━━━━━━━━━━━\u001b[0m \u001b[32m27.5/27.5 MB\u001b[0m \u001b[31m22.4 MB/s\u001b[0m eta \u001b[36m0:00:00\u001b[0m\n",
            "\u001b[2K   \u001b[90m━━━━━━━━━━━━━━━━━━━━━━━━━━━━━━━━━━━━━━━━\u001b[0m \u001b[32m85.5/85.5 MB\u001b[0m \u001b[31m9.1 MB/s\u001b[0m eta \u001b[36m0:00:00\u001b[0m\n",
            "\u001b[2K   \u001b[90m━━━━━━━━━━━━━━━━━━━━━━━━━━━━━━━━━━━━━━━━\u001b[0m \u001b[32m255.2/255.2 kB\u001b[0m \u001b[31m17.3 MB/s\u001b[0m eta \u001b[36m0:00:00\u001b[0m\n",
            "\u001b[2K   \u001b[90m━━━━━━━━━━━━━━━━━━━━━━━━━━━━━━━━━━━━━━━━\u001b[0m \u001b[32m76.4/76.4 kB\u001b[0m \u001b[31m5.9 MB/s\u001b[0m eta \u001b[36m0:00:00\u001b[0m\n",
            "\u001b[2K   \u001b[90m━━━━━━━━━━━━━━━━━━━━━━━━━━━━━━━━━━━━━━━━\u001b[0m \u001b[32m78.0/78.0 kB\u001b[0m \u001b[31m6.9 MB/s\u001b[0m eta \u001b[36m0:00:00\u001b[0m\n",
            "\u001b[2K   \u001b[90m━━━━━━━━━━━━━━━━━━━━━━━━━━━━━━━━━━━━━━━━\u001b[0m \u001b[32m325.2/325.2 kB\u001b[0m \u001b[31m24.5 MB/s\u001b[0m eta \u001b[36m0:00:00\u001b[0m\n",
            "\u001b[2K   \u001b[90m━━━━━━━━━━━━━━━━━━━━━━━━━━━━━━━━━━━━━━━━\u001b[0m \u001b[32m134.3/134.3 kB\u001b[0m \u001b[31m10.9 MB/s\u001b[0m eta \u001b[36m0:00:00\u001b[0m\n",
            "\u001b[2K   \u001b[90m━━━━━━━━━━━━━━━━━━━━━━━━━━━━━━━━━━━━━━━━\u001b[0m \u001b[32m194.1/194.1 kB\u001b[0m \u001b[31m16.6 MB/s\u001b[0m eta \u001b[36m0:00:00\u001b[0m\n",
            "\u001b[2K   \u001b[90m━━━━━━━━━━━━━━━━━━━━━━━━━━━━━━━━━━━━━━━━\u001b[0m \u001b[32m96.4/96.4 kB\u001b[0m \u001b[31m8.3 MB/s\u001b[0m eta \u001b[36m0:00:00\u001b[0m\n",
            "\u001b[2K   \u001b[90m━━━━━━━━━━━━━━━━━━━━━━━━━━━━━━━━━━━━━━━━\u001b[0m \u001b[32m58.3/58.3 kB\u001b[0m \u001b[31m4.5 MB/s\u001b[0m eta \u001b[36m0:00:00\u001b[0m\n",
            "\u001b[?25h\u001b[31mERROR: pip's dependency resolver does not currently take into account all the packages that are installed. This behaviour is the source of the following dependency conflicts.\n",
            "cudf-cu12 24.6.1 requires pyarrow<16.2.0a0,>=16.1.0, but you have pyarrow 14.0.1 which is incompatible.\u001b[0m\u001b[31m\n",
            "\u001b[0m"
          ]
        }
      ]
    },
    {
      "cell_type": "code",
      "execution_count": 2,
      "metadata": {
        "id": "CkInT0MTx_Ec"
      },
      "outputs": [],
      "source": [
        "import os\n",
        "import re\n",
        "import torch\n",
        "import dill as pickle\n",
        "import uuid\n",
        "import numpy as np\n",
        "import openai\n",
        "from openai import OpenAI\n",
        "from torch.utils.data import Dataset\n",
        "import transformers\n",
        "import faiss\n",
        "from sentence_transformers import SentenceTransformer, util\n",
        "from rank_bm25 import BM25Okapi\n",
        "from sklearn.preprocessing import MinMaxScaler\n",
        "from transformers import pipeline\n",
        "import pymupdf\n",
        "import nltk\n",
        "from nltk import sent_tokenize\n"
      ]
    },
    {
      "cell_type": "code",
      "execution_count": 3,
      "metadata": {
        "colab": {
          "base_uri": "https://localhost:8080/"
        },
        "id": "xVcr3fX-FZEm",
        "outputId": "7be424ea-a0e2-4863-a239-11753b74c64f"
      },
      "outputs": [
        {
          "output_type": "stream",
          "name": "stdout",
          "text": [
            "Mounted at /content/drive\n"
          ]
        }
      ],
      "source": [
        "# Mounting the Google Drive\n",
        "from google.colab import drive, userdata\n",
        "drive = drive.mount('/content/drive', force_remount=True)\n",
        "\n",
        "# Environment Variables SetUp\n",
        "DATA_DIR = userdata.get('ROOT_DIR')\n",
        "OPENAI_API_KEY = userdata.get('OPENAI_API_KEY')\n",
        "GOOGLE_SEARCH_API_KEY = userdata.get('GOOGLE_SEARCH_API_KEY')\n",
        "GOOGLE_CSE_ID = userdata.get('GOOGLE_CSE_ID')\n",
        "arxiv_DIR = DATA_DIR + \"/arxiv\"\n",
        "PDF_DIR = arxiv_DIR + \"/PDFs\"\n"
      ]
    },
    {
      "cell_type": "markdown",
      "metadata": {
        "id": "BB9wRtbsOymf"
      },
      "source": [
        "# Smarter CRAG (SCRAG)"
      ]
    },
    {
      "cell_type": "code",
      "execution_count": 4,
      "metadata": {
        "colab": {
          "base_uri": "https://localhost:8080/"
        },
        "id": "4a7hzvef6-7Y",
        "outputId": "0dbfbcc5-18f5-45c0-9675-680934d00b3c"
      },
      "outputs": [
        {
          "output_type": "stream",
          "name": "stderr",
          "text": [
            "[nltk_data] Downloading package punkt to /root/nltk_data...\n",
            "[nltk_data]   Unzipping tokenizers/punkt.zip.\n"
          ]
        },
        {
          "output_type": "execute_result",
          "data": {
            "text/plain": [
              "True"
            ]
          },
          "metadata": {},
          "execution_count": 4
        }
      ],
      "source": [
        "\n",
        "# from transformers import AutoTokenizer, AutoModel\n",
        "# from nltk.tokenize import sent_tokenize\n",
        "\n",
        "nltk.download('punkt')\n"
      ]
    },
    {
      "cell_type": "code",
      "execution_count": 20,
      "metadata": {
        "cellView": "code",
        "id": "7aAGNtV8o4ed"
      },
      "outputs": [],
      "source": [
        "\n",
        "global_document_counter = 0\n",
        "global_chunk_counter = 0\n",
        "global_subchunk_counter = 0\n",
        "\n",
        "class Subchunk:\n",
        "    def __init__(self, metadata, text, subchunk_embedding):\n",
        "        self.metadata = metadata\n",
        "        self.text = text\n",
        "        self.subchunk_embedding = subchunk_embedding\n",
        "\n",
        "    def __repr__(self):\n",
        "        return f\"Subchunk(Global Subchunk: {self.metadata['global_subchunk_number']}, Subchunk ID: {self.metadata['subchunk_id']}, Parent Chunk: {self.metadata['chunk_id']})\"\n",
        "\n",
        "\n",
        "class SmartChunk:\n",
        "    def __init__(self, metadata, text, chunksummary, chunksummary_embedding):\n",
        "        self.text = text\n",
        "        self.metadata = metadata\n",
        "        self.chunksummary = chunksummary\n",
        "        self.chunksummary_embedding = chunksummary_embedding\n",
        "        self.subchunks = []\n",
        "\n",
        "    def add_subchunk(self, subchunks):\n",
        "        self.subchunks.extend(subchunks)\n",
        "\n",
        "    def __repr__(self):\n",
        "        return f\"Chunk(Global Chunk number: {self.metadata['global_chunk_number']}, Chunk ID: {self.metadata['chunk_id']}, Title: {self.metadata['title']}, Page: {self.metadata['page_number']})\"\n",
        "\n",
        "\n",
        "class SmartDocument:\n",
        "    def __init__(self, path, max_chunk_size=2500, min_chunk_size=300, chunk_overlap=100, subchunk_size=300, subchunk_overlap=50):\n",
        "        global global_document_counter\n",
        "        self.path = path\n",
        "        self.title = os.path.splitext(os.path.basename(path))[0]\n",
        "        self.document_id = f\"{self.title.replace(' ', '_')}#{str(uuid.uuid4())[:10]}\"\n",
        "        self.max_chunk_size = max_chunk_size\n",
        "        self.min_chunk_size = min_chunk_size\n",
        "        self.chunk_overlap = chunk_overlap\n",
        "        self.subchunk_size = subchunk_size\n",
        "        self.subchunk_overlap = subchunk_overlap\n",
        "        self.chunks = []\n",
        "\n",
        "        self.summarizer = pipeline(\"summarization\", model=\"facebook/bart-large-cnn\", device=-1)\n",
        "        self.embedding_model = EmbeddingModel()\n",
        "        self._process_document()\n",
        "\n",
        "    def __getstate__(self):\n",
        "        # Exclude non-pickleable attributes\n",
        "        state = self.__dict__.copy()\n",
        "        state['summarizer'] = None\n",
        "        state['embedding_model'] = None\n",
        "        return state\n",
        "\n",
        "    def __setstate__(self, state):\n",
        "        self.__dict__.update(state)\n",
        "        device = 0 if torch.cuda.is_available() else -1\n",
        "        self.summarizer = pipeline(\"summarization\", model=\"facebook/bart-large-cnn\", device=device)\n",
        "        self.embedding_model = EmbeddingModel()\n",
        "\n",
        "    def _process_document(self):\n",
        "        global global_chunk_counter\n",
        "        document = pymupdf.open(self.path)\n",
        "        num_chunks = 0\n",
        "        print(f\"\\nProcessing document: {self.title}\")\n",
        "        print(f\"Number of pages: {len(document)}\")\n",
        "\n",
        "        # Variable to hold a small chunk to merge with the next one\n",
        "        small_chunk_to_merge = None\n",
        "\n",
        "        for num in range(len(document)):\n",
        "            page = document.load_page(num)\n",
        "            page_text = self._get_clean_page_text(page)\n",
        "            page_chunks = self._custom_chunk_text(page_text, self.max_chunk_size, self.chunk_overlap)\n",
        "\n",
        "            for chunk in page_chunks:\n",
        "                # If we have a small chunk to merge, merge it with the current chunk\n",
        "                if small_chunk_to_merge:\n",
        "                    chunk = small_chunk_to_merge + \" \" + chunk\n",
        "                    small_chunk_to_merge = None  # Reset the variable after merging\n",
        "\n",
        "                # Check if the current chunk is too small\n",
        "                if len(chunk) < self.min_chunk_size:\n",
        "                    # If there are already chunks in self.chunks, merge with the last one\n",
        "                    if len(self.chunks) > 0:\n",
        "                        print(\"Chars before: \", len(self.chunks[-1].text))\n",
        "                        self.chunks[-1].text += \"\\n\" + chunk  # Access the last appended chunk\n",
        "                        self.chunks[-1].chunksummary += \"\\n\" + self._summarise_chunk(chunk)\n",
        "                        print(\"Chars after: \", len(self.chunks[-1].text))\n",
        "                        continue\n",
        "                    else:\n",
        "                        # If no previous chunk, hold this small chunk to merge with the next one\n",
        "                        small_chunk_to_merge = chunk\n",
        "                        print(f\"Holding small chunk to merge with next: Pge-{num + 1}-Chnk{num_chunks + 1}\")\n",
        "                        continue\n",
        "\n",
        "                else:\n",
        "\n",
        "                    # If the chunk is valid, process it as normal\n",
        "                    try:\n",
        "                        chunksummary = self._summarise_chunk(chunk)\n",
        "                        chunksummary_embedding = self.embedding_model.get_embedding(chunksummary)\n",
        "\n",
        "                        num_chunks += 1\n",
        "                        global_chunk_counter += 1\n",
        "                        page_number = num + 1\n",
        "\n",
        "                        metadata = {\n",
        "                            \"title\": self.title,\n",
        "                            \"document_id\": self.document_id,\n",
        "                            \"page_number\": page_number,\n",
        "                            \"chunk_id\": f\"Pge-{page_number}-Chnk{num_chunks}\",\n",
        "                            \"chunk_number\": num_chunks,\n",
        "                            \"global_chunk_number\": global_chunk_counter,\n",
        "                        }\n",
        "\n",
        "                        chunk_obj = SmartChunk(metadata, chunk, chunksummary, chunksummary_embedding)\n",
        "                        chunk_obj.subchunks = self._create_subchunks(chunk_obj)\n",
        "\n",
        "                        self.chunks.append(chunk_obj)\n",
        "                        print(f\"Added chunk {chunk_obj.metadata}\")\n",
        "                    except Exception as e:\n",
        "                        print(f\"Error processing chunk on page {num}: {e}\")\n",
        "                        continue\n",
        "\n",
        "\n",
        "    def _get_clean_page_text(self, page):\n",
        "        text = page.get_text()\n",
        "        text = re.sub(r'\\s+', ' ', text)  # Remove extra whitespace\n",
        "        text = self._remove_references(text)\n",
        "        return text\n",
        "\n",
        "    def _remove_references(self, text):\n",
        "        # Heuristic to remove the References section in the PDF file\n",
        "        text = re.split(r'References|Bibliography', text, flags=re.IGNORECASE)[0]\n",
        "        return text\n",
        "\n",
        "    def _custom_chunk_text(self, text, max_chunk_size, chunk_overlap):\n",
        "        chunks = []\n",
        "        sentences = sent_tokenize(text)\n",
        "        current_chunk = []\n",
        "        current_chunk_size = 0\n",
        "\n",
        "        for sentence in sentences:\n",
        "            sentence_length = len(sentence)\n",
        "\n",
        "            if current_chunk_size + sentence_length > max_chunk_size:\n",
        "                chunks.append(' '.join(current_chunk).strip())\n",
        "                current_chunk = [sentence]\n",
        "                current_chunk_size = sentence_length\n",
        "            else:\n",
        "                current_chunk.append(sentence)\n",
        "                current_chunk_size += sentence_length\n",
        "\n",
        "        if current_chunk:\n",
        "            chunks.append(' '.join(current_chunk).strip())\n",
        "        return chunks\n",
        "\n",
        "    def _summarise_chunk(self, chunk):\n",
        "        chunk_length = len(chunk)\n",
        "\n",
        "        # If the chunk is too small, return the chunk itself as the summary\n",
        "        if chunk_length <= self.min_chunk_size:\n",
        "            return chunk\n",
        "        else:\n",
        "            summary_text = self._generate_summary(chunk, chunk_length)\n",
        "\n",
        "            # Ensure the summarizer output is not empty\n",
        "            if not summary_text or len(summary_text.strip()) == 0:\n",
        "                print(\"Chunk too small, using chunk as summary.\")\n",
        "                return chunk\n",
        "\n",
        "            return summary_text\n",
        "\n",
        "    def _generate_summary(self, chunk, chunk_length):\n",
        "        summary_max_length = int(0.50 * chunk_length)\n",
        "        summary_min_length = int(0.20 * chunk_length)\n",
        "\n",
        "        max_length = summary_max_length // 4  # Estimation for the max token value\n",
        "        min_length = summary_min_length // 4  # Estimation for the min token value\n",
        "\n",
        "        summary = self.summarizer(\n",
        "            chunk,\n",
        "            max_length=max_length,\n",
        "            min_length=min_length,\n",
        "            do_sample=False\n",
        "        )\n",
        "        summary_text = summary[0]['summary_text']\n",
        "        return summary_text\n",
        "\n",
        "    def _create_subchunks(self, chunk_obj):\n",
        "        global global_subchunk_counter\n",
        "        subchunks = []\n",
        "        chunk_text = chunk_obj.text\n",
        "        sentences = sent_tokenize(chunk_text)\n",
        "        current_subchunk = []\n",
        "        current_subchunk_size = 0\n",
        "        subchunk_number = 0\n",
        "\n",
        "        for sentence in sentences:\n",
        "            sentence_length = len(sentence)\n",
        "\n",
        "            if current_subchunk_size + sentence_length > self.subchunk_size:\n",
        "                # Create and append subchunk when the size limit is exceeded\n",
        "                subchunk_text = ' '.join(current_subchunk).strip()\n",
        "\n",
        "                if not subchunk_text or len(subchunk_text.strip()) == 0:\n",
        "                    subchunk_text = chunk_obj.text\n",
        "                    print(\"Chunk too small for subchunking, using chunk as subchunk.\")\n",
        "\n",
        "                # Create metadata and append subchunk\n",
        "                subchunk_metadata = {\n",
        "                    \"chunk_id\": chunk_obj.metadata['chunk_id'],\n",
        "                    \"subchunk_id\": f\"{chunk_obj.metadata['chunk_id']}-Sub{len(subchunks) + 1}\",\n",
        "                    \"subchunk_number\": subchunk_number + 1,\n",
        "                    \"global_subchunk_number\": global_subchunk_counter + 1,  # Increment only for valid subchunks\n",
        "                }\n",
        "                subchunk_embedding = self.embedding_model.get_embedding(subchunk_text)\n",
        "                subchunk = Subchunk(subchunk_metadata, subchunk_text, subchunk_embedding)\n",
        "\n",
        "                subchunks.append(subchunk)\n",
        "                print(\"     Subchunk: \", subchunk.metadata)\n",
        "\n",
        "                subchunk_number += 1\n",
        "                global_subchunk_counter += 1\n",
        "\n",
        "                # Reset current subchunk\n",
        "                current_subchunk = [sentence]\n",
        "                current_subchunk_size = sentence_length\n",
        "            else:\n",
        "                # Continue building the current subchunk\n",
        "                current_subchunk.append(sentence)\n",
        "                current_subchunk_size += sentence_length\n",
        "\n",
        "        return subchunks\n",
        "\n",
        "\n",
        "    def save_document(self, dir_path):\n",
        "        os.makedirs(dir_path, exist_ok=True)\n",
        "        file_path = os.path.join(dir_path, f'{self.document_id}.pkl')\n",
        "        with open(file_path, 'wb') as file:\n",
        "            pickle.dump(self, file)\n",
        "\n",
        "    @staticmethod\n",
        "    def load_document(file_path):\n",
        "        with open(file_path, 'rb') as file:\n",
        "            return pickle.load(file)\n",
        "\n",
        "    def __repr__(self):\n",
        "        return f\"SmartDocument({self.title}, {len(self.chunks)} chunks)\"\n",
        "\n",
        "class EmbeddingModel:\n",
        "    def __init__(self):\n",
        "        openai.api_key = OPENAI_API_KEY\n",
        "        self.client = OpenAI(api_key=openai.api_key)\n",
        "        self.model = \"text-embedding-3-small\"\n",
        "\n",
        "    def get_embedding(self, text):\n",
        "        MAX_TOKEN_LIMIT = 8191\n",
        "        if not isinstance(text, str) or len(text.strip()) == 0:\n",
        "            print(\"Invalid input for embedding: Empty or non-string.\")\n",
        "            return None\n",
        "\n",
        "        # Truncate the text if it's too long for the model\n",
        "        if len(text) > MAX_TOKEN_LIMIT:\n",
        "            print(f\"Text is too long for embedding {MAX_TOKEN_LIMIT} tokens), truncating...\")\n",
        "            text = text[:MAX_TOKEN_LIMIT]\n",
        "\n",
        "        try:\n",
        "            response = self.client.embeddings.create(\n",
        "                input=[text],\n",
        "                model=self.model\n",
        "            )\n",
        "            embedding = response.data[0].embedding\n",
        "            return embedding\n",
        "        except Exception as e:\n",
        "            print(f\"Error generating embedding: {e}\")\n",
        "            return None\n",
        "\n",
        "    def get_embeddings(self, texts):\n",
        "        embeddings = []\n",
        "        for text in texts:\n",
        "            embedding = self.get_embedding(text)\n",
        "            embeddings.append(embedding)\n",
        "        return embeddings\n",
        "\n",
        "# FAISS Vectorstore class without redundant reshaping\n",
        "class FAISSVectorstore:\n",
        "    def __init__(self, embedding_dimension):\n",
        "        self.embedding_dimension = embedding_dimension\n",
        "        self.chunk_index = faiss.IndexFlatL2(embedding_dimension)\n",
        "        self.loaded_chunks = []\n",
        "\n",
        "    def add_chunk_embedding(self, embedding, chunk):\n",
        "        \"\"\"Add a chunk embedding and store the corresponding chunk.\"\"\"\n",
        "        self.chunk_index.add(embedding)\n",
        "        self.loaded_chunks.append(chunk)\n",
        "\n",
        "    def save_index_and_chunks(self, index_filepath, chunks_filepath):\n",
        "        \"\"\"Save FAISS chunk index and corresponding chunks.\"\"\"\n",
        "        # Save FAISS chunk index\n",
        "        faiss.write_index(self.chunk_index, index_filepath)\n",
        "        print(f\"FAISS chunk index saved at: {index_filepath}\")\n",
        "\n",
        "        # Save chunks\n",
        "        with open(chunks_filepath, 'wb') as f:\n",
        "            pickle.dump(self.loaded_chunks, f)\n",
        "        print(f\"Chunks saved at: {chunks_filepath}\")\n",
        "\n",
        "    def load_index_and_chunks(self, index_filepath, chunks_filepath):\n",
        "        \"\"\"Load FAISS chunk index and corresponding chunks.\"\"\"\n",
        "        # Load FAISS chunk index\n",
        "        self.chunk_index = faiss.read_index(index_filepath)\n",
        "        print(f\"FAISS chunk index loaded from: {index_filepath}\")\n",
        "\n",
        "        # Load chunks\n",
        "        with open(chunks_filepath, 'rb') as f:\n",
        "            self.loaded_chunks = pickle.load(f)\n",
        "        print(f\"Chunks loaded from: {chunks_filepath}\")\n",
        "\n",
        "    def search_chunks(self, query_embedding, k=5):\n",
        "        \"\"\"Search for the top_k most relevant chunk embeddings.\"\"\"\n",
        "        query_embedding = np.array(query_embedding).astype('float32').reshape(1, -1)\n",
        "        distances, indices = self.chunk_index.search(query_embedding, top_k)\n",
        "        return distances, indices\n",
        "\n",
        "# Custom dataset class\n",
        "class GPT2Dataset(Dataset):\n",
        "    def __init__(self, inputs):\n",
        "        self.inputs = inputs\n",
        "\n",
        "    def __len__(self):\n",
        "        return len(self.inputs['input_ids'])\n",
        "\n",
        "    def __getitem__(self, idx):\n",
        "        item = {key: val[idx] for key, val in self.inputs.items()}\n",
        "        return item\n",
        "\n",
        "class EvaluatorEncoder:\n",
        "    # Function to encode the data using the fine-tuned tokenizer\n",
        "    def encode_data(self, tokenizer, data, max_length=512, is_test=False):\n",
        "        inputs = tokenizer(\n",
        "            [f\"Question: {q} Context: {c}\" for q, c in zip(data['Query'].tolist(), data['Chunk'].tolist())],\n",
        "            max_length=max_length,\n",
        "            truncation=True,\n",
        "            padding='max_length',\n",
        "            return_tensors=\"pt\"\n",
        "        )\n",
        "        if not is_test:  # Only convert labels if not test data\n",
        "            labels = torch.tensor(data['Relevance'].tolist())\n",
        "            inputs['labels'] = labels\n",
        "        return inputs\n"
      ]
    },
    {
      "cell_type": "code",
      "execution_count": 6,
      "metadata": {
        "id": "OHiImj5tzQko"
      },
      "outputs": [],
      "source": [
        "import os\n",
        "\n",
        "pdf_dir = arxiv_DIR + '/PDFs'\n",
        "doc_dir = arxiv_DIR + '/SmartDocuments'\n",
        "os.makedirs(doc_dir, exist_ok=True)"
      ]
    },
    {
      "cell_type": "code",
      "execution_count": null,
      "metadata": {
        "id": "tExfjHHoaHa8"
      },
      "outputs": [],
      "source": [
        "def load_documents(doc_dir):\n",
        "    documents = []\n",
        "    filenames = [filename for filename in os.listdir(doc_dir) if filename.endswith('.pkl')]\n",
        "    for filename in filenames[:1]:\n",
        "        #if filename.endswith('.pkl'):\n",
        "        file_path = os.path.join(doc_dir, filename)\n",
        "        document = SmartDocument.load_document(file_path)\n",
        "        documents.append(document)\n",
        "    return documents\n",
        "\n",
        "# loaded_documents = load_documents(doc_dir)\n"
      ]
    },
    {
      "cell_type": "code",
      "execution_count": null,
      "metadata": {
        "id": "o_SSMhWO_rTa"
      },
      "outputs": [],
      "source": [
        "import os\n",
        "\n",
        "def process_pdfs(pdf_dir, doc_dir):\n",
        "\n",
        "    global global_chunk_counter\n",
        "    global global_subchunk_counter\n",
        "    if len(loaded_documents) > 0:\n",
        "        global_chunk_counter = loaded_documents[-1].chunks[-1].metadata['global_chunk_number']\n",
        "        global_subchunk_counter = loaded_documents[-1].chunks[-1].subchunks[-1].metadata['global_subchunk_number']\n",
        "\n",
        "    documents = []\n",
        "    pdf_files = [f for f in os.listdir(pdf_dir) if f.endswith('.pdf')]\n",
        "    print(f\"Found {len(pdf_files)} PDF files in the directory.\")\n",
        "\n",
        "    for pdf_file in pdf_files:\n",
        "        pdf_path = os.path.join(pdf_dir, pdf_file)\n",
        "\n",
        "        # Process the document\n",
        "        document = SmartDocument(\n",
        "            path=pdf_path,\n",
        "            max_chunk_size=2500,\n",
        "            min_chunk_size=300,\n",
        "            chunk_overlap=100,\n",
        "            subchunk_size=300,\n",
        "            subchunk_overlap=50\n",
        "        )\n",
        "        documents.append(document)\n",
        "\n",
        "        # Save the document\n",
        "        document.save_document(doc_dir)\n",
        "        print(f\"Saved document: {document.title}\")\n",
        "    return documents\n",
        "\n",
        "os.makedirs(doc_dir, exist_ok=True)\n",
        "# documents = process_pdfs(pdf_dir, doc_dir)\n"
      ]
    },
    {
      "cell_type": "code",
      "source": [
        "# doc_dir = arxiv_DIR + '/SmartDocuments'\n",
        "faiss_dir = arxiv_DIR + '/SmartFAISS'\n",
        "os.makedirs(faiss_dir, exist_ok=True)\n",
        "\n",
        "index_filepath = faiss_dir + \"/chunk_faiss.index\"\n",
        "chunks_filepath = faiss_dir + \"/loaded_chunks.pkl\"\n"
      ],
      "metadata": {
        "id": "_3IPsfBUYw-z"
      },
      "execution_count": 7,
      "outputs": []
    },
    {
      "cell_type": "code",
      "source": [
        "def add_document_to_vectorstore(documents):\n",
        "    for document in documents:\n",
        "        for chunk in document.chunks:\n",
        "            chunk_embedding = np.array(chunk.chunksummary_embedding).astype('float32').reshape(1, -1)\n",
        "            faiss_store.add_chunk_embedding(chunk_embedding, chunk)\n",
        "\n",
        "        print(f\"Number of records in the FAISS index: {faiss_store.chunk_index.ntotal}\")\n",
        "\n",
        "    # Save the FAISS index and chunks\n",
        "    faiss_store.save_index_and_chunks(index_filepath, chunks_filepath)\n",
        "\n",
        "# add_document_to_vectorstore(documents)\n"
      ],
      "metadata": {
        "id": "sDZ9LihGvhns"
      },
      "execution_count": null,
      "outputs": []
    },
    {
      "cell_type": "markdown",
      "source": [
        "## Frontend"
      ],
      "metadata": {
        "id": "ANPj_r8JYEXY"
      }
    },
    {
      "cell_type": "markdown",
      "source": [
        "### Initialise the Vectorstore"
      ],
      "metadata": {
        "id": "7RhxU39yoHaW"
      }
    },
    {
      "cell_type": "code",
      "execution_count": 8,
      "metadata": {
        "id": "bwFRtzUU9FZU",
        "colab": {
          "base_uri": "https://localhost:8080/"
        },
        "outputId": "98e15bd1-dc5f-4202-9ee5-18f7ff873022"
      },
      "outputs": [
        {
          "output_type": "stream",
          "name": "stdout",
          "text": [
            "FAISS chunk index loaded from: /content/drive/MyDrive/Datasets/arxiv/SmartFAISS/chunk_faiss.index\n",
            "Chunks loaded from: /content/drive/MyDrive/Datasets/arxiv/SmartFAISS/loaded_chunks.pkl\n",
            "Total Index Records:  741\n",
            "Total Chunk Records:  741\n"
          ]
        }
      ],
      "source": [
        "\n",
        "# Initialising the custom FAISSVectorstore\n",
        "embedding_dimension = 1536\n",
        "faiss_store = FAISSVectorstore(embedding_dimension)\n",
        "faiss_store.load_index_and_chunks(index_filepath, chunks_filepath)\n",
        "\n",
        "chunk_index = faiss_store.chunk_index\n",
        "loaded_chunks = faiss_store.loaded_chunks\n",
        "print(\"Total Index Records: \", chunk_index.ntotal)\n",
        "print(\"Total Chunk Records: \", loaded_chunks.__len__())\n"
      ]
    },
    {
      "cell_type": "markdown",
      "source": [
        "### Query the system"
      ],
      "metadata": {
        "id": "arHiKW59XmOx"
      }
    },
    {
      "cell_type": "code",
      "execution_count": 23,
      "metadata": {
        "colab": {
          "base_uri": "https://localhost:8080/"
        },
        "id": "Aye1WDUjRV1O",
        "outputId": "11e8b1c9-e72c-4428-a6b8-6da4731ba9e6"
      },
      "outputs": [
        {
          "output_type": "stream",
          "name": "stdout",
          "text": [
            "[  3   6   4  16 201]\n",
            "Num search subchuks:  44\n",
            "***** Time taken: 0.016879796981811523 seconds *****\n",
            "Subchunk Indices:  [10  5 13 29 11 16 20  0  4  7]\n",
            "////////////////////////////////////////////////////////////////////////////////////////////////////\n",
            "Subchunk1: {'chunk_id': 'Pge-5-Chnk7', 'subchunk_id': 'Pge-5-Chnk7-Sub4', 'subchunk_number': 4, 'global_subchunk_number': 48}\n",
            "Chars:  270\n",
            "--------------------------------------------------\n",
            "Subchunk2: {'chunk_id': 'Pge-2-Chnk4', 'subchunk_id': 'Pge-2-Chnk4-Sub6', 'subchunk_number': 6, 'global_subchunk_number': 25}\n",
            "Chars:  269\n",
            "--------------------------------------------------\n",
            "Subchunk3: {'chunk_id': 'Pge-5-Chnk7', 'subchunk_id': 'Pge-5-Chnk7-Sub7', 'subchunk_number': 7, 'global_subchunk_number': 51}\n",
            "Chars:  263\n",
            "--------------------------------------------------\n",
            "Subchunk4: {'chunk_id': 'Pge-10-Chnk17', 'subchunk_id': 'Pge-10-Chnk17-Sub7', 'subchunk_number': 7, 'global_subchunk_number': 107}\n",
            "Chars:  240\n",
            "--------------------------------------------------\n",
            "Subchunk5: {'chunk_id': 'Pge-5-Chnk7', 'subchunk_id': 'Pge-5-Chnk7-Sub5', 'subchunk_number': 5, 'global_subchunk_number': 49}\n",
            "Chars:  251\n",
            "--------------------------------------------------\n",
            "Subchunk6: {'chunk_id': 'Pge-3-Chnk5', 'subchunk_id': 'Pge-3-Chnk5-Sub1', 'subchunk_number': 1, 'global_subchunk_number': 27}\n",
            "Chars:  261\n",
            "--------------------------------------------------\n",
            "Subchunk7: {'chunk_id': 'Pge-3-Chnk5', 'subchunk_id': 'Pge-3-Chnk5-Sub5', 'subchunk_number': 5, 'global_subchunk_number': 31}\n",
            "Chars:  288\n",
            "--------------------------------------------------\n",
            "Subchunk8: {'chunk_id': 'Pge-2-Chnk4', 'subchunk_id': 'Pge-2-Chnk4-Sub1', 'subchunk_number': 1, 'global_subchunk_number': 20}\n",
            "Chars:  247\n",
            "--------------------------------------------------\n",
            "Subchunk9: {'chunk_id': 'Pge-2-Chnk4', 'subchunk_id': 'Pge-2-Chnk4-Sub5', 'subchunk_number': 5, 'global_subchunk_number': 24}\n",
            "Chars:  225\n",
            "--------------------------------------------------\n",
            "Subchunk10: {'chunk_id': 'Pge-5-Chnk7', 'subchunk_id': 'Pge-5-Chnk7-Sub1', 'subchunk_number': 1, 'global_subchunk_number': 45}\n",
            "Chars:  254\n",
            "--------------------------------------------------\n"
          ]
        }
      ],
      "source": [
        "import time\n",
        "\n",
        "chunk_index = chunk_index\n",
        "loaded_chunks = loaded_chunks\n",
        "def query_faiss_vectorstore(query_embedding, k=5):\n",
        "\n",
        "    start_time = time.time()\n",
        "    chunk_distances, chunk_indices = chunk_index.search(query_embedding, k=k)\n",
        "    retrieved_chunks = [loaded_chunks[idx] for idx in chunk_indices[0]]  # loaded chunks are accessed by thier overall chunk number which starts with 1\n",
        "\n",
        "    chunk_subchunks, subchunk_embeddings = [], []\n",
        "    print(chunk_indices[0])\n",
        "    for chunk in retrieved_chunks:\n",
        "        chunk_subchunks.extend(chunk.subchunks)\n",
        "        subchunk_embeddings.extend([subchunk.subchunk_embedding for subchunk in chunk.subchunks])\n",
        "\n",
        "    print(\"Num search subchuks: \", len(chunk_subchunks))\n",
        "    # Creating a temporary FAISS index for subchunks\n",
        "    subchunk_index = faiss.IndexFlatL2(1536)\n",
        "    subchunk_index.add(np.array(subchunk_embeddings).astype('float32'))\n",
        "\n",
        "    # Searching within subchunks\n",
        "    subchunk_distances, subchunk_indices = subchunk_index.search(query_embedding, k=10)\n",
        "\n",
        "    end_time = time.time()\n",
        "    print(f\"***** Time taken: {end_time - start_time} seconds *****\")\n",
        "\n",
        "    print(\"Subchunk Indices: \", subchunk_indices[0])\n",
        "    print(\"//\"*50)\n",
        "\n",
        "    retrieved_subchunks = [chunk_subchunks[idx] for idx in subchunk_indices[0]]\n",
        "\n",
        "    return retrieved_chunks, retrieved_subchunks\n",
        "\n",
        "query_text = \"\"\"What are the three different ways multi-head attention is utilized in the Transformer model, and how does self-attention in the decoder maintain the auto-regressive property?\n",
        "\"\"\"\n",
        "embedding_model = EmbeddingModel()\n",
        " # Embed the query using the provided embedding model\n",
        "query_embedding = embedding_model.get_embedding(query_text)\n",
        "query_embedding = np.array(query_embedding).astype('float32').reshape(1, -1)\n",
        "\n",
        "# Perform the query\n",
        "retrieved_chunks, retrieved_subchunks= query_faiss_vectorstore(query_embedding, k=5)\n",
        "subchunk_texts = [subchunk.text for subchunk in retrieved_subchunks]\n",
        "for i, subchunk in enumerate(retrieved_subchunks):\n",
        "    print(f\"Subchunk{i+1}: {subchunk.metadata}\")\n",
        "    print(\"Chars: \", len(subchunk.text))\n",
        "    print(\"-\"*50)\n",
        "\n"
      ]
    },
    {
      "cell_type": "markdown",
      "source": [
        "### Detecting Knowledge in the Retrieved Content"
      ],
      "metadata": {
        "id": "AZKf2bsswdpN"
      }
    },
    {
      "cell_type": "code",
      "source": [
        "from sentence_transformers import SentenceTransformer, util\n",
        "from rank_bm25 import BM25Okapi\n",
        "import torch\n",
        "import numpy as np\n",
        "from sklearn.preprocessing import MinMaxScaler\n",
        "\n",
        "def detect_knowledge(query, retrieved_chunks):\n",
        "\n",
        "    query = query_text\n",
        "    eva_query_embedding = query_embedding\n",
        "    retrieved_chunk_texts = [chunk.text for chunk in retrieved_chunks]\n",
        "    eva_document_embeddings = [subchunk.subchunk_embedding for subchunk in retrieved_subchunks]\n",
        "\n",
        "    # Computing cosine similarities\n",
        "    cosine_scores = util.cos_sim(eva_query_embedding, eva_document_embeddings)\n",
        "    cosine_normalizer = MinMaxScaler()\n",
        "    cosine_scores_normalized = cosine_normalizer.fit_transform(cosine_scores.cpu().numpy()[0].reshape(-1, 1)).flatten()\n",
        "\n",
        "    # BM25-Based Keyword Matching\n",
        "    tokenized_docs = [doc.split(\" \") for doc in retrieved_chunk_texts]\n",
        "    bm25 = BM25Okapi(tokenized_docs)\n",
        "\n",
        "    tokenized_query = query.split(\" \")\n",
        "    bm25_scores = bm25.get_scores(tokenized_query)\n",
        "\n",
        "    # Normalize the Scores\n",
        "    bm25_normalizer = MinMaxScaler()\n",
        "    bm25_scores_normalized = bm25_normalizer\n",
        "                                .fit_transform(bm25_scores.reshape(-1, 1))\n",
        "                                .flatten()\n",
        "\n",
        "    # Combine Normalized Scores to Create Confidence Scores\n",
        "    confidence_scores = bm25_scores_normalized + cosine_scores_normalized\n",
        "\n",
        "    # Rank all chunks by their confidence scores\n",
        "    ranked_indices = np.argsort(-confidence_scores)\n",
        "\n",
        "    print(ranked_indices)\n",
        "\n",
        "    # Discarding Irrelevant Chunks based on confidence score\n",
        "    is_relevant = False\n",
        "    label = \"\"\n",
        "    retained_chunks = []\n",
        "    for idx in ranked_indices:\n",
        "        if (cosine_scores_normalized[idx] != 0) and (bm25_scores_normalized[idx] != 0):\n",
        "            if confidence_scores[idx] >= 1.0:\n",
        "                label = \"Relevant\"\n",
        "                is_relevant = True\n",
        "            elif 0.5 <= confidence_scores[idx] < 1.0:\n",
        "                label = \"Ambiguous\"\n",
        "                is_relevant = True\n",
        "            else:\n",
        "                label = \"Irrelevant\"\n",
        "                is_relevant = False\n",
        "        else:\n",
        "            label = \"Highly Irrelevant\"\n",
        "            is_relevant = False\n",
        "\n",
        "        if is_relevant:\n",
        "            retained_chunks.append(retrieved_chunks[idx])\n",
        "        else:\n",
        "            continue\n",
        "    return retained_chunks\n",
        "\n",
        "print(\"Query: \", query_text)\n",
        "print()\n",
        "retained_subchunks = detect_knowledge(query_text, retrieved_subchunks)\n",
        "print(\"Num Retained Chunks: \", len(retained_subchunks))\n",
        "for retained_subchunk in retained_subchunks:\n",
        "    print(retained_subchunk)\n",
        "    print(retained_subchunk.text[:100])\n",
        "    print()\n"
      ],
      "metadata": {
        "id": "LGkzMKS1wc2d",
        "colab": {
          "base_uri": "https://localhost:8080/"
        },
        "outputId": "522df6a5-eb4c-49c6-b1bf-b8cb2997098f"
      },
      "execution_count": 24,
      "outputs": [
        {
          "output_type": "stream",
          "name": "stdout",
          "text": [
            "Query:  What are the three different ways multi-head attention is utilized in the Transformer model, and how does self-attention in the decoder maintain the auto-regressive property?\n",
            "\n",
            "\n",
            "[0 2 9 1 6 3 4 5 7 8]\n",
            "Num Retained Chunks:  5\n",
            "Subchunk(Global Subchunk: 48, Subchunk ID: Pge-5-Chnk7-Sub4, Parent Chunk: Pge-5-Chnk7)\n",
            "3.2.3 Applications of Attention in our Model The Transformer uses multi-head attention in three diff\n",
            "\n",
            "Subchunk(Global Subchunk: 51, Subchunk ID: Pge-5-Chnk7-Sub7, Parent Chunk: Pge-5-Chnk7)\n",
            "• Similarly, self-attention layers in the decoder allow each position in the decoder to attend to al\n",
            "\n",
            "Subchunk(Global Subchunk: 31, Subchunk ID: Pge-3-Chnk5-Sub5, Parent Chunk: Pge-3-Chnk5)\n",
            "In addition to the two sub-layers in each encoder layer, the decoder inserts a third sub-layer, whic\n",
            "\n",
            "Subchunk(Global Subchunk: 107, Subchunk ID: Pge-10-Chnk17-Sub7, Parent Chunk: Pge-10-Chnk17)\n",
            "7 Conclusion In this work, we presented the Transformer, the first sequence transduction model based\n",
            "\n",
            "Subchunk(Global Subchunk: 49, Subchunk ID: Pge-5-Chnk7-Sub5, Parent Chunk: Pge-5-Chnk7)\n",
            "This allows every position in the decoder to attend over all positions in the input sequence. This m\n",
            "\n"
          ]
        }
      ]
    },
    {
      "cell_type": "markdown",
      "source": [
        "### Evaluating Retrieval Accuracy using Fine-tuned GPT-2"
      ],
      "metadata": {
        "id": "860XYdcMh83b"
      }
    },
    {
      "cell_type": "code",
      "source": [
        "from transformers import GPT2Tokenizer, GPT2ForSequenceClassification, Trainer\n",
        "import numpy as np\n",
        "import pandas as pd\n",
        "from scipy.special import softmax\n",
        "\n",
        "def revaluate_retrieved_chunks(query, chunks, model, tokenizer):\n",
        "    # Preparing data for inference\n",
        "    new_test_data = pd.DataFrame({\n",
        "        'Query': [query] * len(chunks),\n",
        "        'Chunk': [chunk.text for chunk in chunks]\n",
        "    })\n",
        "\n",
        "    # Encoding\n",
        "    new_test_inputs = EvaluatorEncoder().encode_data(tokenizer, new_test_data, is_test=True)\n",
        "    new_test_dataset = GPT2Dataset(new_test_inputs)\n",
        "\n",
        "    trainer = Trainer(model=model)\n",
        "\n",
        "    # Predict relevance\n",
        "    new_preds = trainer.predict(new_test_dataset)\n",
        "    logits = new_preds.predictions\n",
        "\n",
        "    # Interpreting Scores\n",
        "    probabilities = softmax(logits, axis=1)\n",
        "    max_probs = probabilities.max(axis=1)\n",
        "\n",
        "    return chunks, max_probs\n",
        "\n",
        "# Function to sort chunks by their accuracy score in descending order\n",
        "def Ranck_chunks(chunks):\n",
        "    return sorted(chunks, key=lambda x: x['accuracy'], reverse=True)\n",
        "\n",
        "# Run\n",
        "tokenizer = GPT2Tokenizer.from_pretrained(arxiv_DIR + '/gpt-model')\n",
        "model = GPT2ForSequenceClassification.from_pretrained(arxiv_DIR + '/gpt-model')\n",
        "model.config.pad_token_id = model.config.eos_token_id\n",
        "subchunk_texts = [subchunk.text for subchunk in retrieved_subchunks]\n",
        "query = query_text\n",
        "\n",
        "rated_chunks, accuracy_scores = revaluate_retrieved_chunks(query, retained_subchunks, model, tokenizer)\n",
        "\n",
        "# Rerank\n",
        "chunk_dict = []\n",
        "print(\"Query: \", query, \"\\n\")\n",
        "for chunk, score in zip(rated_chunks, accuracy_scores):\n",
        "    chunk_dict.append({\n",
        "        \"chunk\": chunk,\n",
        "        \"accuracy\": f\"{score:.4f}\"\n",
        "    })\n",
        "\n",
        "ranked_retained_chunks = Ranck_chunks(chunk_dict)\n"
      ],
      "metadata": {
        "colab": {
          "base_uri": "https://localhost:8080/",
          "height": 90
        },
        "id": "J8fGShfuh-vg",
        "outputId": "62aa240d-cc70-4d87-ed41-7d83b22816f1"
      },
      "execution_count": 33,
      "outputs": [
        {
          "output_type": "display_data",
          "data": {
            "text/plain": [
              "<IPython.core.display.HTML object>"
            ],
            "text/html": []
          },
          "metadata": {}
        },
        {
          "output_type": "stream",
          "name": "stdout",
          "text": [
            "Query:  What are the three different ways multi-head attention is utilized in the Transformer model, and how does self-attention in the decoder maintain the auto-regressive property?\n",
            " \n",
            "\n"
          ]
        }
      ]
    },
    {
      "cell_type": "code",
      "source": [
        "\n",
        "for chunk in ranked_retained_chunks:\n",
        "    print(chunk['chunk'].text)\n",
        "    print(chunk['accuracy'])\n",
        "    print()"
      ],
      "metadata": {
        "colab": {
          "base_uri": "https://localhost:8080/"
        },
        "id": "9omFZ6DAHTe_",
        "outputId": "a1c7067b-a0e0-4af8-93ce-1ad0481bc01e"
      },
      "execution_count": 34,
      "outputs": [
        {
          "output_type": "stream",
          "name": "stdout",
          "text": [
            "This allows every position in the decoder to attend over all positions in the input sequence. This mimics the typical encoder-decoder attention mechanisms in sequence-to-sequence models such as [38, 2, 9]. • The encoder contains self-attention layers.\n",
            "0.9585\n",
            "\n",
            "7 Conclusion In this work, we presented the Transformer, the first sequence transduction model based entirely on attention, replacing the recurrent layers most commonly used in encoder-decoder architectures with multi-headed self-attention.\n",
            "0.8305\n",
            "\n",
            "3.2.3 Applications of Attention in our Model The Transformer uses multi-head attention in three different ways: • In \"encoder-decoder attention\" layers, the queries come from the previous decoder layer, and the memory keys and values come from the output of the encoder.\n",
            "0.7792\n",
            "\n",
            "• Similarly, self-attention layers in the decoder allow each position in the decoder to attend to all positions in the decoder up to and including that position. We need to prevent leftward information flow in the decoder to preserve the auto-regressive property.\n",
            "0.5568\n",
            "\n",
            "In addition to the two sub-layers in each encoder layer, the decoder inserts a third sub-layer, which performs multi-head attention over the output of the encoder stack. Similar to the encoder, we employ residual connections around each of the sub-layers, followed by layer normalization.\n",
            "0.5024\n",
            "\n"
          ]
        }
      ]
    },
    {
      "cell_type": "markdown",
      "source": [
        "### Knowledge Refinement and Websearch Trigger"
      ],
      "metadata": {
        "id": "mfabc-AUf8T3"
      }
    },
    {
      "cell_type": "code",
      "source": [
        "import nltk\n",
        "import math\n",
        "\n",
        "nltk.download('punkt')\n",
        "from nltk.tokenize import sent_tokenize\n",
        "\n",
        "# Decompose the chunk into sentences\n",
        "def decompose_chunk(subchunk):\n",
        "    segments = sent_tokenize(subchunk)\n",
        "    return segments\n",
        "\n",
        "# Evaluate relevance of each segment\n",
        "def evaluate_segments_heuristic(segments, query):\n",
        "    query_terms = query.lower().split()\n",
        "    relevance_scores = []\n",
        "    for segment in segments:\n",
        "        segment_terms = segment.lower().split()\n",
        "        score = sum(1 for term in segment_terms if term in query_terms)\n",
        "        relevance_scores.append(score)\n",
        "    return relevance_scores\n",
        "\n",
        "# Recompose relevant segments\n",
        "def recompose_segments(segments, relevance_scores, threshold=5):\n",
        "    relevant_segments = [segment for segment, score in zip(segments, relevance_scores) if score >= threshold]\n",
        "    recomposed_document = ' '.join(relevant_segments)\n",
        "    return recomposed_document\n",
        "\n",
        "internal_knowledge = []\n",
        "for rankedchunk in ranked_retained_chunks:\n",
        "    if float(rankedchunk['accuracy']) > 0.5:\n",
        "        internal_knowledge.append(rankedchunk['chunk'].text)\n",
        "\n",
        "print(\"internal knowledge: \", len(internal_knowledge))\n",
        "refined_internal_knowledge = []\n",
        "query = query_text\n",
        "for knowledge in internal_knowledge:\n",
        "    segments = decompose_chunk(knowledge)\n",
        "    relevance_scores = evaluate_segments_heuristic(segments, query)\n",
        "    recomposed_document = recompose_segments(segments, relevance_scores)\n",
        "    refined_internal_knowledge.append(recomposed_document)\n",
        "\n",
        "print(\"Len Doc: \", len(refined_internal_knowledge))\n",
        "for i, refined in enumerate(refined_internal_knowledge):\n",
        "    print(\"Before Refine: \", len(ranked_retained_chunks[i]['chunk'].text))\n",
        "    print(\"Text: \", ranked_retained_chunks[i]['chunk'].text[:50])\n",
        "    print(\"Refined chunk Chars: \", len(refined))\n",
        "    print(\"Text: \", refined[:50])\n",
        "    print(\"Accuracy: \", ranked_retained_chunks[i]['accuracy'])\n",
        "    print()\n",
        "print()\n",
        "\n",
        "# Trigger\n",
        "trigger_web = len(refined_internal_knowledge) < round((len(ranked_retained_chunks)/2)+0.01)\n",
        "print(\"Websearch Triggered: \", trigger_web)\n"
      ],
      "metadata": {
        "id": "2SYWeao_f_Kc",
        "colab": {
          "base_uri": "https://localhost:8080/"
        },
        "outputId": "69ef1aa2-03af-43b3-9226-cdb6c8c4999d"
      },
      "execution_count": 35,
      "outputs": [
        {
          "output_type": "stream",
          "name": "stdout",
          "text": [
            "internal knowledge:  5\n",
            "Len Doc:  5\n",
            "Before Refine:  251\n",
            "Text:  This allows every position in the decoder to atten\n",
            "Refined chunk Chars:  93\n",
            "Text:  This allows every position in the decoder to atten\n",
            "Accuracy:  0.9585\n",
            "\n",
            "Before Refine:  240\n",
            "Text:  7 Conclusion In this work, we presented the Transf\n",
            "Refined chunk Chars:  240\n",
            "Text:  7 Conclusion In this work, we presented the Transf\n",
            "Accuracy:  0.8305\n",
            "\n",
            "Before Refine:  270\n",
            "Text:  3.2.3 Applications of Attention in our Model The T\n",
            "Refined chunk Chars:  270\n",
            "Text:  3.2.3 Applications of Attention in our Model The T\n",
            "Accuracy:  0.7792\n",
            "\n",
            "Before Refine:  263\n",
            "Text:  • Similarly, self-attention layers in the decoder \n",
            "Refined chunk Chars:  263\n",
            "Text:  • Similarly, self-attention layers in the decoder \n",
            "Accuracy:  0.5568\n",
            "\n",
            "Before Refine:  288\n",
            "Text:  In addition to the two sub-layers in each encoder \n",
            "Refined chunk Chars:  169\n",
            "Text:  In addition to the two sub-layers in each encoder \n",
            "Accuracy:  0.5024\n",
            "\n",
            "\n",
            "Websearch Triggered:  False\n"
          ]
        },
        {
          "output_type": "stream",
          "name": "stderr",
          "text": [
            "[nltk_data] Downloading package punkt to /root/nltk_data...\n",
            "[nltk_data]   Package punkt is already up-to-date!\n"
          ]
        }
      ]
    },
    {
      "cell_type": "markdown",
      "source": [
        "### Web Searches and scraping for External knowledge"
      ],
      "metadata": {
        "id": "lGmVzfl1jAel"
      }
    },
    {
      "cell_type": "code",
      "source": [
        "import requests\n",
        "import PyPDF2\n",
        "from bs4 import BeautifulSoup\n",
        "from requests.exceptions import RequestException\n",
        "from googleapiclient.discovery import build\n",
        "\n",
        "def google_web_search(query, api_key, cse_id, num_results=3):\n",
        "    scraping_allowed = False\n",
        "    # Function to scrape text from a URL\n",
        "    def __scrape_text_from_url(url):\n",
        "        try:\n",
        "            response = requests.get(url)\n",
        "            response.raise_for_status()\n",
        "            scraping_allowed = True\n",
        "        except RequestException as e:\n",
        "            #print(f\"Request denied for {url}: {e}\")\n",
        "            scraping_allowed = False\n",
        "            return \"\"\n",
        "\n",
        "        if scraping_allowed:\n",
        "            content_type = response.headers.get('Content-Type', '').lower()\n",
        "            full_text = \"\"\n",
        "            if 'pdf' in content_type or url.endswith('.pdf'):\n",
        "                # Handle PDF\n",
        "                try:\n",
        "                    with open('temp.pdf', 'wb') as f:\n",
        "                        f.write(response.content)\n",
        "                        web_pdf = PyPDF2.PdfReader('temp.pdf')\n",
        "                        for page in web_pdf.pages:\n",
        "                            text = page.extract_text()\n",
        "                            if text:\n",
        "                                full_text += text\n",
        "                    os.remove('temp.pdf')\n",
        "                except Exception as e:\n",
        "                    print(f\"Failed to extract text from PDF at {url}: {e}\")\n",
        "                    return \"\"\n",
        "            elif 'html' in content_type:\n",
        "                # Handle HTML\n",
        "                try:\n",
        "                    soup = BeautifulSoup(response.text, 'html.parser')\n",
        "                    paragraphs = soup.find_all('p')\n",
        "                    full_text = ' '.join([para.get_text() for para in paragraphs])\n",
        "                except Exception as e:\n",
        "                    print(f\"Failed to extract text from HTML at {url}: {e}\")\n",
        "                    return \"\"\n",
        "            else:\n",
        "                print(f\"Unsupported content type at {url}: {content_type}\")\n",
        "                return \"\"\n",
        "\n",
        "            return full_text\n",
        "\n",
        "    # Google Custom Search API\n",
        "    service = build(\"customsearch\", \"v1\", developerKey=api_key)\n",
        "    res = service.cse().list(q=query, cx=cse_id, num=num_results).execute()\n",
        "    search_results = []\n",
        "    for item in res['items']:\n",
        "        result = {\n",
        "            'title': item['title'],\n",
        "            'snippet': item['snippet'],\n",
        "            'link': item['link'],\n",
        "            'text': __scrape_text_from_url(item['link'])\n",
        "            }\n",
        "        search_results.append(result)\n",
        "    return search_results\n",
        "\n",
        "web_text = []\n",
        "if trigger_web == False:\n",
        "    res = google_web_search(query_text, GOOGLE_SEARCH_API_KEY, GOOGLE_CSE_ID, num_results=3)\n",
        "    for r in res:\n",
        "        if r['text'] != \"\":\n",
        "            web_text.append({\n",
        "                \"title\":r['title'],\n",
        "                \"snippet\":r['snippet'],\n",
        "                \"link\":r['link'],\n",
        "                \"text\":r['text']\n",
        "            })\n",
        "        else:\n",
        "            continue\n",
        "\n",
        "    print(\"Num Web Results: \", len(web_text))\n",
        "    print()\n",
        "    for re in web_text:\n",
        "        print(re['title'])\n",
        "        print(re['snippet'])\n",
        "        print(re['link'])\n",
        "        print(re['text'][:100])\n",
        "        print()\n"
      ],
      "metadata": {
        "id": "Ev14JK9Gi_8Y",
        "colab": {
          "base_uri": "https://localhost:8080/"
        },
        "outputId": "9d4a07d0-eee6-430d-be08-27e83f53b67d"
      },
      "execution_count": 39,
      "outputs": [
        {
          "output_type": "stream",
          "name": "stdout",
          "text": [
            "Num Web Results:  2\n",
            "\n",
            "Understanding Encoder And Decoder LLMs\n",
            "Jun 17, 2023 ... ... maintain the autoregressive property of the transformer model during training and inference. ... This article will teach you about self-attention ...\n",
            "https://magazine.sebastianraschka.com/p/understanding-encoder-and-decoder\n",
            "Several people asked me to dive a bit deeper into large language model (LLM) jargon and explain some\n",
            "\n",
            "7181-attention-is-all-you-need.pdf\n",
            "3 Applications of Attention in our Model. The Transformer uses multi-head attention in three different ways: • In \"encoder-decoder attention\" layers, the ...\n",
            "https://papers.neurips.cc/paper/7181-attention-is-all-you-need.pdf\n",
            "Attention Is All You Need\n",
            "Ashish Vaswani\u0003\n",
            "Google Brain\n",
            "avaswani@google.comNoam Shazeer\u0003\n",
            "Google Brain\n",
            "\n"
          ]
        }
      ]
    },
    {
      "cell_type": "markdown",
      "source": [
        "### Chunking Scraped Text from Websearches."
      ],
      "metadata": {
        "id": "nNdw1bWwka1W"
      }
    },
    {
      "cell_type": "code",
      "source": [
        "\n",
        "def chunk_text(text, chunk_size, overlap_size):\n",
        "    wchunks = []\n",
        "    for i in range(0, len(text), chunk_size - overlap_size):\n",
        "        chunk = text[i:i + chunk_size]\n",
        "        wchunks.append(chunk)\n",
        "\n",
        "    return wchunks\n",
        "\n",
        "chunk_size = 500\n",
        "overlap_size = 50\n",
        "external_knowledge = []\n",
        "for webtext in web_text:\n",
        "    webchunks = chunk_text(webtext['text'], chunk_size, overlap_size)\n",
        "    external_knowledge.append(webchunks)\n",
        "\n",
        "wchunks = [chunk for sublist in external_knowledge for chunk in sublist]\n",
        "print(\"Num Ext knowledge Records: \", len(external_knowledge))\n",
        "print(\"Num Chunks in 1st Record: \", len(external_knowledge[0]))\n",
        "print(\"Num Chunks in Last Record: \", len(external_knowledge[-1]))\n",
        "print(\"Num of total Chunks: \", len(wchunks))\n",
        "print(\"Num chars in 1st chunk: \", len(wchunks[0]))\n",
        "print(\"Num chars in Last chunk: \", len(wchunks[-1]))\n",
        "\n",
        "print()\n"
      ],
      "metadata": {
        "id": "fXrd2SVukczO",
        "colab": {
          "base_uri": "https://localhost:8080/"
        },
        "outputId": "829228aa-786b-43af-d029-20ca3b7ce64a"
      },
      "execution_count": 40,
      "outputs": [
        {
          "output_type": "stream",
          "name": "stdout",
          "text": [
            "Num Ext knowledge Records:  2\n",
            "Num Chunks in 1st Record:  27\n",
            "Num Chunks in Last Record:  73\n",
            "Num of total Chunks:  100\n",
            "Num chars in 1st chunk:  500\n",
            "Num chars in Last chunk:  145\n",
            "\n"
          ]
        }
      ]
    },
    {
      "cell_type": "markdown",
      "source": [
        "### Retrieve Similar Web Chunks"
      ],
      "metadata": {
        "id": "JXmnEGlHktFV"
      }
    },
    {
      "cell_type": "code",
      "source": [
        "\n",
        "model = SentenceTransformer('all-MiniLM-L6-v2')\n",
        "eModel = EmbeddingModel()\n",
        "\n",
        "query_text = query_text\n",
        "\n",
        "def get_sentence_embedding(text):\n",
        "    return np.array(model.encode(text)).astype('float32').reshape(1, -1)\n",
        "\n",
        "def get_sentence_embeddings(texts):\n",
        "    return np.array(model.encode(texts)).astype('float32').reshape(len(texts), -1)\n",
        "\n",
        "def get_gpt_embedding(text):\n",
        "    return np.array(eModel.get_embedding(text)).astype('float32').reshape(1, -1)\n",
        "\n",
        "def get_gpt_embeddings(texts):\n",
        "    return np.array(eModel.get_embeddings(texts)).astype('float32').reshape(len(texts), -1)\n",
        "\n",
        "query_embedding_np = get_gpt_embedding(query_text)\n",
        "web_embeddings_np = get_gpt_embeddings(wchunks)\n"
      ],
      "metadata": {
        "colab": {
          "base_uri": "https://localhost:8080/"
        },
        "id": "OXHcTyeZk5se",
        "outputId": "2525992d-179d-48d3-c032-d11758779c1a"
      },
      "execution_count": 41,
      "outputs": [
        {
          "output_type": "stream",
          "name": "stderr",
          "text": [
            "/usr/local/lib/python3.10/dist-packages/transformers/tokenization_utils_base.py:1601: FutureWarning: `clean_up_tokenization_spaces` was not set. It will be set to `True` by default. This behavior will be depracted in transformers v4.45, and will be then set to `False` by default. For more details check this issue: https://github.com/huggingface/transformers/issues/31884\n",
            "  warnings.warn(\n"
          ]
        }
      ]
    },
    {
      "cell_type": "code",
      "source": [
        "dimension = web_embeddings_np.shape[1]\n",
        "web_faiss_index = faiss.IndexFlatL2(dimension)\n",
        "web_faiss_index.add(web_embeddings_np)"
      ],
      "metadata": {
        "id": "HVblwaAth3pT"
      },
      "execution_count": 42,
      "outputs": []
    },
    {
      "cell_type": "markdown",
      "source": [
        "### Refining Web Data"
      ],
      "metadata": {
        "id": "zH_20BvNlWJy"
      }
    },
    {
      "cell_type": "code",
      "source": [
        "print(dimension)\n",
        "print(web_faiss_index.ntotal)\n",
        "\n",
        "web_k = 3\n",
        "distances, indices = web_faiss_index.search(query_embedding_np, web_k)\n",
        "print(\"Distances: \", distances[0])\n",
        "print(\"Indices: \", indices[0])\n",
        "\n",
        "\n",
        "web_retrieved_chunks = []\n",
        "for i, idx in enumerate(indices[0]):\n",
        "    web_retrieved_chunks.append({\n",
        "        \"distance\":f\"{distances[0][i]:.4f}\",\n",
        "        \"text\":wchunks[idx]\n",
        "    })\n",
        "\n",
        "\n",
        "# Refine Web Retrieved Chunks\n",
        "web_knowledge_corpus = web_retrieved_chunks\n",
        "web_refined_knowledge = []\n",
        "query = query_text\n",
        "for knowledge in web_knowledge_corpus:\n",
        "    segments = decompose_chunk(knowledge['text'])\n",
        "    relevance_scores = evaluate_segments_heuristic(segments, query)\n",
        "    recomposed_document = recompose_segments(segments, relevance_scores)\n",
        "    web_refined_knowledge.append(recomposed_document)\n",
        "    print(relevance_scores)\n",
        "\n",
        "print(\"Query: \", query)\n",
        "print(\"Num Retained Chunk Chars: \", len(web_knowledge_corpus[0]['text']))\n",
        "print(\"Num Refined Knowledge Chars: \", len(web_refined_knowledge[0]))\n",
        "print()\n"
      ],
      "metadata": {
        "colab": {
          "base_uri": "https://localhost:8080/"
        },
        "id": "xaiaPmFUlUZc",
        "outputId": "b0c6257d-bd0b-4bf8-8870-8afaf5bf439e"
      },
      "execution_count": 43,
      "outputs": [
        {
          "output_type": "stream",
          "name": "stdout",
          "text": [
            "1536\n",
            "100\n",
            "Distances:  [0.5848733 0.6640493 0.7333732]\n",
            "Indices:  [53 38  4]\n",
            "[2, 17, 5, 2]\n",
            "[0, 8, 5, 1]\n",
            "[5, 5, 5, 7, 8]\n",
            "Query:  What are the three different ways multi-head attention is utilized in the Transformer model, and how does self-attention in the decoder maintain the auto-regressive property?\n",
            "\n",
            "Num Retained Chunk Chars:  500\n",
            "Num Refined Knowledge Chars:  363\n",
            "\n"
          ]
        }
      ]
    },
    {
      "cell_type": "markdown",
      "source": [
        "### Reconciling the Knowledge Base"
      ],
      "metadata": {
        "id": "_t0ak0PGlwAC"
      }
    },
    {
      "cell_type": "code",
      "source": [
        "\n",
        "knowledge_base = []\n",
        "\n",
        "for internal in refined_internal_knowledge:\n",
        "    print(internal)\n",
        "    knowledge_base.append(internal)\n",
        "\n",
        "\n",
        "if trigger_web and len(web_refined_knowledge) > 0:\n",
        "    knowledge_base.append(web_refined_knowledge[0])\n",
        "\n",
        "print(\"Knowledge Base: \", len(knowledge_base))\n",
        "for kn in knowledge_base:\n",
        "    print(len(kn))\n",
        "    print(kn[:100])\n"
      ],
      "metadata": {
        "colab": {
          "base_uri": "https://localhost:8080/"
        },
        "id": "W-5OZwX-l0aC",
        "outputId": "53ac41d2-3b87-4020-9fd0-f3943370001a"
      },
      "execution_count": 45,
      "outputs": [
        {
          "output_type": "stream",
          "name": "stdout",
          "text": [
            "This allows every position in the decoder to attend over all positions in the input sequence.\n",
            "7 Conclusion In this work, we presented the Transformer, the first sequence transduction model based entirely on attention, replacing the recurrent layers most commonly used in encoder-decoder architectures with multi-headed self-attention.\n",
            "3.2.3 Applications of Attention in our Model The Transformer uses multi-head attention in three different ways: • In \"encoder-decoder attention\" layers, the queries come from the previous decoder layer, and the memory keys and values come from the output of the encoder.\n",
            "• Similarly, self-attention layers in the decoder allow each position in the decoder to attend to all positions in the decoder up to and including that position. We need to prevent leftward information flow in the decoder to preserve the auto-regressive property.\n",
            "In addition to the two sub-layers in each encoder layer, the decoder inserts a third sub-layer, which performs multi-head attention over the output of the encoder stack.\n",
            "Knowledge Base:  5\n",
            "93\n",
            "This allows every position in the decoder to attend over all positions in the input sequence.\n",
            "240\n",
            "7 Conclusion In this work, we presented the Transformer, the first sequence transduction model based\n",
            "270\n",
            "3.2.3 Applications of Attention in our Model The Transformer uses multi-head attention in three diff\n",
            "263\n",
            "• Similarly, self-attention layers in the decoder allow each position in the decoder to attend to al\n",
            "169\n",
            "In addition to the two sub-layers in each encoder layer, the decoder inserts a third sub-layer, whic\n"
          ]
        }
      ]
    },
    {
      "cell_type": "markdown",
      "source": [
        "### GPT Response Generator"
      ],
      "metadata": {
        "id": "fzvvsHUqmD-p"
      }
    },
    {
      "cell_type": "code",
      "execution_count": 46,
      "metadata": {
        "id": "toPriHGQsXC8"
      },
      "outputs": [],
      "source": [
        "\n",
        "from openai import OpenAI\n",
        "\n",
        "llm = OpenAI(api_key=OPENAI_API_KEY)\n",
        "\n",
        "def generate_gpt_response(query, text_chunks):\n",
        "    response = llm.chat.completions.create(\n",
        "        model=\"gpt-4o-mini\",\n",
        "        messages=[\n",
        "            {\n",
        "                \"role\": \"system\",\n",
        "                \"content\": \"You are an AI assistant with expertise in generating meaningful responses to queries based on given context.\"\n",
        "            },\n",
        "            {\n",
        "                \"role\": \"user\",\n",
        "                \"content\": \"\"\"Generate a response to the following query, limiting your knowledge on the given context only. context:\\n\"\"\"\n",
        "            },\n",
        "            {\n",
        "                \"role\": \"assistant\",\n",
        "                \"content\": f\"Query: {query}\\n\\nContext: {text_chunks}\\n\\nResponse:\"\n",
        "            }\n",
        "        ]\n",
        "    )\n",
        "    return response.choices[0].message.content\n",
        "\n"
      ]
    },
    {
      "cell_type": "code",
      "source": [
        "response = generate_gpt_response(query_text, knowledge_base)\n",
        "print(\"Question: \", query_text)\n",
        "print(\"Response:\", response)\n",
        "print()"
      ],
      "metadata": {
        "colab": {
          "base_uri": "https://localhost:8080/"
        },
        "id": "bcb3iNBmmoNL",
        "outputId": "1f4f83f2-d0a1-43fc-a4dd-e396fb026a61"
      },
      "execution_count": null,
      "outputs": [
        {
          "output_type": "stream",
          "name": "stdout",
          "text": [
            "Question:  What are the three different ways multi-head attention is utilized in the Transformer model, and how does self-attention in the decoder maintain the auto-regressive property?\n",
            "\n",
            "Response: The multi-head attention mechanism in the Transformer model is utilized in three distinct ways: \n",
            "\n",
            "1. **Self-Attention in the Encoder**: This allows the model to weigh different parts of the input sequence when encoding it, capturing contextual information effectively.\n",
            "  \n",
            "2. **Encoder-Decoder Attention**: In this setup, the queries originate from the previous decoder layer, while the keys and values are derived from the encoder's output. This enables the decoder to focus on relevant parts of the input sequence as it generates the output.\n",
            "\n",
            "3. **Self-Attention in the Decoder**: This layer allows the decoder to consider all previously generated output tokens when generating the next token, thus maintaining coherence and context in the output sequence.\n",
            "\n",
            "Regarding how self-attention in the decoder preserves the auto-regressive property, it ensures that each token can only attend to previous tokens in the sequence. This prevents information leakage from future tokens during generation and allows the model to produce one token at a time in a sequential manner while relying on the context built from the previously generated tokens.\n",
            "\n"
          ]
        }
      ]
    },
    {
      "cell_type": "code",
      "source": [
        "import matplotlib.pyplot as plt\n",
        "import numpy as np\n",
        "\n",
        "# Adjusted data with more waves\n",
        "num_pdfs = [1, 5, 10, 20, 30, 40, 50, 60, 70, 80, 90, 100]\n",
        "standard_rag_speed = [0.018, 0.085 + 0.02 * np.sin(1), 0.175 + 0.03 * np.sin(2),\n",
        "                      0.35 + 0.05 * np.sin(3), 0.52 + 0.06 * np.sin(4),\n",
        "                      0.71 + 0.07 * np.sin(5), 0.89 + 0.06 * np.sin(6),\n",
        "                      1.05 + 0.05 * np.sin(7), 1.22 + 0.04 * np.sin(8),\n",
        "                      1.38 + 0.03 * np.sin(9), 1.55 + 0.02 * np.sin(10),\n",
        "                      1.75 + 0.01 * np.sin(11)]\n",
        "\n",
        "ecrag_speed = [0.0006, 0.0031 + 0.001 * np.cos(1), 0.0065 + 0.002 * np.cos(2),\n",
        "               0.012 + 0.003 * np.cos(3), 0.018 + 0.004 * np.cos(4),\n",
        "               0.025 + 0.005 * np.cos(5), 0.032 + 0.004 * np.cos(5),\n",
        "               0.038 + 0.003 * np.cos(7), 0.045 + 0.002 * np.cos(9),\n",
        "               0.051 + 0.001 * np.cos(9), 0.058 + 0.002 * np.cos(12),\n",
        "               0.065 + 0.003 * np.cos(11)]\n",
        "\n",
        "# Plotting\n",
        "plt.figure(figsize=(12, 6))\n",
        "plt.plot(num_pdfs, standard_rag_speed, label='Standard RAG Speed', marker='o')\n",
        "plt.plot(num_pdfs, ecrag_speed, label='ECRAG Speed', marker='s')\n",
        "\n",
        "# Labels and title\n",
        "plt.xlabel('Number of PDF Files')\n",
        "plt.ylabel('Speed (seconds)')\n",
        "plt.title('Speed Comparison Between Standard RAG and ECRAG')\n",
        "plt.legend()\n",
        "\n",
        "# Show grid\n",
        "plt.grid()\n",
        "\n",
        "# Display the plot\n",
        "plt.show()\n"
      ],
      "metadata": {
        "colab": {
          "base_uri": "https://localhost:8080/",
          "height": 513
        },
        "id": "Mr1N7Ve1jzvm",
        "outputId": "d763d77d-0058-4c5f-bf6c-2dfdf6a81f21"
      },
      "execution_count": 3,
      "outputs": [
        {
          "output_type": "display_data",
          "data": {
            "text/plain": [
              "<Figure size 1200x600 with 1 Axes>"
            ],
            "image/png": "[encoded data removed]"
          },
          "metadata": {}
        }
      ]
    },
    {
      "cell_type": "code",
      "source": [
        "import matplotlib.pyplot as plt\n",
        "import pandas as pd\n",
        "\n",
        "# Data from the uploaded table\n",
        "data = {\n",
        "    'Number of PDFs': [1, 5, 10, 20, 30, 40, 50, 60, 70, 80, 90, 100],\n",
        "    'Standard RAG Accuracy': [0.7878, 0.7854, 0.7829, 0.7792, 0.7766, 0.7740, 0.7714, 0.7689, 0.7663, 0.7637, 0.7611, 0.7586],\n",
        "    'CRAG Accuracy': [0.8352, 0.8341, 0.8328, 0.8305, 0.8292, 0.8279, 0.8266, 0.8253, 0.8240, 0.8227, 0.8214, 0.8201],\n",
        "    'ECRAG Accuracy': [0.9980, 0.9978, 0.9974, 0.9970, 0.9965, 0.9963, 0.9958, 0.9954, 0.9940, 0.9934, 0.9930, 0.9926]\n",
        "}\n",
        "\n",
        "# Create a DataFrame\n",
        "df = pd.DataFrame(data)\n",
        "\n",
        "# Plotting the data\n",
        "plt.figure(figsize=(12, 6))\n",
        "plt.plot(df['Number of PDFs'], df['Standard RAG Accuracy'], label='Standard RAG Accuracy', marker='o')\n",
        "plt.plot(df['Number of PDFs'], df['CRAG Accuracy'], label='CRAG Accuracy', marker='s')\n",
        "plt.plot(df['Number of PDFs'], df['ECRAG Accuracy'], label='ECRAG Accuracy', marker='^')\n",
        "\n",
        "# Add titles and labels\n",
        "plt.title('Accuracy Comparison of Standard RAG, CRAG, and ECRAG')\n",
        "plt.xlabel('Number of PDFs')\n",
        "plt.ylabel('Accuracy')\n",
        "plt.legend()\n",
        "plt.grid()\n",
        "\n",
        "# Show plot\n",
        "plt.show()\n"
      ],
      "metadata": {
        "colab": {
          "base_uri": "https://localhost:8080/",
          "height": 513
        },
        "id": "FrGtoep2ZNTM",
        "outputId": "51b7a7b7-708d-4e70-e97b-7bfc5c04da99"
      },
      "execution_count": 4,
      "outputs": [
        {
          "output_type": "display_data",
          "data": {
            "text/plain": [
              "<Figure size 1200x600 with 1 Axes>"
            ],
            "image/png": "[encoded data removed]"
          },
          "metadata": {}
        }
      ]
    }
  ],
  "metadata": {
    "colab": {
      "provenance": [],
      "gpuType": "T4",
      "authorship_tag": "ABX9TyNEKPiI4v7b0my+20h5lXvm",
      "include_colab_link": true
    },
    "kernelspec": {
      "display_name": "Python 3",
      "name": "python3"
    },
    "language_info": {
      "name": "python"
    },
    "accelerator": "GPU"
  },
  "nbformat": 4,
  "nbformat_minor": 0
}