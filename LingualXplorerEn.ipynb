{
  "cells": [
    {
      "cell_type": "markdown",
      "metadata": {
        "id": "view-in-github",
        "colab_type": "text"
      },
      "source": [
        "<a href=\"https://colab.research.google.com/github/BobGanti/ColabNotebooks/blob/main/LingualXplorerEn.ipynb\" target=\"_parent\"><img src=\"https://colab.research.google.com/assets/colab-badge.svg\" alt=\"Open In Colab\"/></a>"
      ]
    },
    {
      "cell_type": "markdown",
      "metadata": {
        "id": "6wRYx2vuDa1O"
      },
      "source": [
        "## GLOBAL SETUP SECTION"
      ]
    },
    {
      "cell_type": "markdown",
      "metadata": {
        "id": "UJZWXP2y-c41"
      },
      "source": [
        "### Connect Drive and load datasets"
      ]
    },
    {
      "cell_type": "code",
      "execution_count": null,
      "metadata": {
        "id": "tBSEFnU6-kT3"
      },
      "outputs": [],
      "source": [
        "from google.colab import drive\n",
        "\n",
        "drive.mount('/content/drive', force_remount=True)"
      ]
    },
    {
      "cell_type": "markdown",
      "metadata": {
        "id": "NKDgV5jhEjgD"
      },
      "source": [
        "### Funciton to Return DataFrame by Language"
      ]
    },
    {
      "cell_type": "code",
      "execution_count": null,
      "metadata": {
        "id": "LG_5Myd8C7b2"
      },
      "outputs": [],
      "source": [
        "def get_dataset_by_language(df, lang_code):\n",
        "    if lang_code != 'all':\n",
        "        return df[df['language'] == lang_code]\n",
        "    return df\n"
      ]
    },
    {
      "cell_type": "markdown",
      "metadata": {
        "id": "f9fhFHgNxwmW"
      },
      "source": [
        "### Training Config: Setting batch size, epoch, train lang, etc."
      ]
    },
    {
      "cell_type": "code",
      "execution_count": null,
      "metadata": {
        "id": "yOPzv8Mj3xKv"
      },
      "outputs": [],
      "source": [
        "# Global Train/Validate variables\n",
        "CONFIG = {\n",
        "    'train_batch_size': 16,\n",
        "    'train_epochs': 3,\n",
        "    'train_lang': 'en',\n",
        "    'lang_dict': {'ar':'Arabic','bg':'Bulgarian','de':'German','el':'Greek','en':'English',\n",
        "             'es':'Spanish','fr':'French','hi':'Hindi','ru':'Russian','sw':'Swahili',\n",
        "             'th':'Thai','tr':'Turkish','ur':'Urdu','vi':'Vietnamese','zh':'Chinese'\n",
        "            }\n",
        "}"
      ]
    },
    {
      "cell_type": "markdown",
      "metadata": {
        "id": "WUGokcd75bba"
      },
      "source": [
        "### Tokenization Function: returns tokenized sentence1 and sentence2"
      ]
    },
    {
      "cell_type": "code",
      "execution_count": null,
      "metadata": {
        "id": "vQ7-FydBtb6e"
      },
      "outputs": [],
      "source": [
        "# Tokenisation function\n",
        "def tokenize_sequence(df, tokenizer):\n",
        "    return tokenizer(df['sentence1'].tolist(), df['sentence2'].tolist(), padding=True, truncation=True, return_tensors=\"pt\")\n"
      ]
    },
    {
      "cell_type": "markdown",
      "metadata": {
        "id": "QmUTmjxBFwJR"
      },
      "source": [
        "# TRAINING AND VALIDATION SECTION"
      ]
    },
    {
      "cell_type": "markdown",
      "metadata": {
        "id": "yE_Pj9OpGEtr"
      },
      "source": [
        "### Loading the dev dataset for the chosen language to use for Training."
      ]
    },
    {
      "cell_type": "code",
      "execution_count": null,
      "metadata": {
        "id": "jAhjzTLPGNqT"
      },
      "outputs": [],
      "source": [
        "import pandas as pd\n",
        "\n",
        "dev_df = pd.read_csv('/content/drive/MyDrive/Datasets/XNLI-1.0/XNLI-1.0/xnli.dev.tsv', delimiter='\\t', usecols=['language','sentence1','sentence2','gold_label'])\n",
        "\n",
        "lang = CONFIG['train_lang']\n",
        "dev_df = get_dataset_by_language(dev_df, lang)"
      ]
    },
    {
      "cell_type": "markdown",
      "metadata": {
        "id": "P6VkfTXn4CCJ"
      },
      "source": [
        "### Map Encoding categorical values in the target column"
      ]
    },
    {
      "cell_type": "code",
      "execution_count": null,
      "metadata": {
        "id": "f1j8uP-luaPJ"
      },
      "outputs": [],
      "source": [
        "\n",
        "# Convert gold labels to numerical format\n",
        "label_mapping = {'entailment': 0, 'neutral': 1, 'contradiction': 2}\n",
        "dev_df['gold_label_numeric'] = dev_df['gold_label'].map(label_mapping)\n"
      ]
    },
    {
      "cell_type": "markdown",
      "metadata": {
        "id": "ogyV71HF7jjn"
      },
      "source": [
        "### Split the dev dataset into train and validation, separate inputs X, target y"
      ]
    },
    {
      "cell_type": "code",
      "execution_count": null,
      "metadata": {
        "id": "TgyoTwOZ7U5B"
      },
      "outputs": [],
      "source": [
        "from sklearn.model_selection import train_test_split\n",
        "\n",
        "# Splitting the dataset (80% train, 20% validation)\n",
        "train_df, val_df = train_test_split(dev_df, test_size=0.2, random_state=42)\n",
        "\n",
        "# Separating the inputs X and target y.\n",
        "X_train = train_df[['sentence1', 'sentence2']]\n",
        "y_train = train_df['gold_label_numeric']\n",
        "\n",
        "X_val = val_df[['sentence1', 'sentence2']]\n",
        "y_val = val_df['gold_label_numeric']\n"
      ]
    },
    {
      "cell_type": "markdown",
      "metadata": {
        "id": "atgjTFrmyh1G"
      },
      "source": [
        "### Instantiate the Tokenization object with the pretrained tokeniser from **Huggingface** and pass to the tokenization function, together with the train and val inputs"
      ]
    },
    {
      "cell_type": "code",
      "execution_count": null,
      "metadata": {
        "id": "kSCoMApXuKXK"
      },
      "outputs": [],
      "source": [
        "from transformers import AutoTokenizer\n",
        "\n",
        "pretrained_model = \"MoritzLaurer/mDeBERTa-v3-base-xnli-multilingual-nli-2mil7\"\n",
        "# Load the tokenizer\n",
        "tokenizer = AutoTokenizer.from_pretrained(pretrained_model)\n",
        "\n",
        "# Tokenise the training, validation, and test inputs\n",
        "tokenized_train = tokenize_sequence(X_train, tokenizer)\n",
        "tokenized_val = tokenize_sequence(X_val, tokenizer)\n"
      ]
    },
    {
      "cell_type": "markdown",
      "metadata": {
        "id": "64Hb7PhEJQWO"
      },
      "source": [
        "### Instantiate the Model object from the pretrained Model from Huggingface"
      ]
    },
    {
      "cell_type": "code",
      "execution_count": null,
      "metadata": {
        "id": "vyqqJUx3BEkF"
      },
      "outputs": [],
      "source": [
        "from transformers import AutoModelForSequenceClassification\n",
        "import torch\n",
        "\n",
        "model = AutoModelForSequenceClassification.from_pretrained(pretrained_model)\n",
        "device = torch.device(\"cuda\" if torch.cuda.is_available() else \"cpu\")\n",
        "model.to(device)"
      ]
    },
    {
      "cell_type": "markdown",
      "metadata": {
        "id": "AqK-OhXGD91f"
      },
      "source": [
        "### Tensor datasets and DataLoaders"
      ]
    },
    {
      "cell_type": "code",
      "execution_count": null,
      "metadata": {
        "id": "Gbpcxv9b7BR9"
      },
      "outputs": [],
      "source": [
        "from torch.utils.data import DataLoader, TensorDataset\n",
        "\n",
        "# Convert tokenised data into TensorDataset\n",
        "train_dataset = TensorDataset(tokenized_train['input_ids'], tokenized_train['attention_mask'], torch.tensor(y_train.tolist()))\n",
        "val_dataset = TensorDataset(tokenized_val['input_ids'], tokenized_val['attention_mask'], torch.tensor(y_val.tolist()))\n",
        "\n",
        "# Create DataLoaders\n",
        "batch_size = CONFIG['batch_size']\n",
        "train_loader = DataLoader(train_dataset, batch_size=batch_size, shuffle=True)\n",
        "val_loader = DataLoader(val_dataset, batch_size=batch_size, shuffle=False)\n"
      ]
    },
    {
      "cell_type": "markdown",
      "metadata": {
        "id": "XxvVarkZIAI3"
      },
      "source": [
        "### Training and Validation Loops"
      ]
    },
    {
      "cell_type": "code",
      "execution_count": null,
      "metadata": {
        "colab": {
          "base_uri": "https://localhost:8080/"
        },
        "id": "zHGVKMpYH45W",
        "outputId": "6462744a-8ac3-4c25-b151-b9e46fc7bcd7"
      },
      "outputs": [
        {
          "name": "stderr",
          "output_type": "stream",
          "text": [
            "Training in English Epoch:1/3: 100%|██████████| 125/125 [00:49<00:00,  2.52it/s, loss=0.0196]\n"
          ]
        },
        {
          "name": "stdout",
          "output_type": "stream",
          "text": [
            "Epoch 1/3 - Average Training Loss: 0.0625\n"
          ]
        },
        {
          "name": "stderr",
          "output_type": "stream",
          "text": [
            "Validation Epoch 1/3: 100%|██████████| 32/32 [00:03<00:00,  9.79it/s]\n"
          ]
        },
        {
          "name": "stdout",
          "output_type": "stream",
          "text": [
            "Epoch 1/3 - Validation Accuracy: 0.9920\n"
          ]
        },
        {
          "name": "stderr",
          "output_type": "stream",
          "text": [
            "Training in English Epoch:2/3: 100%|██████████| 125/125 [00:50<00:00,  2.46it/s, loss=0.0237]\n"
          ]
        },
        {
          "name": "stdout",
          "output_type": "stream",
          "text": [
            "Epoch 2/3 - Average Training Loss: 0.0175\n"
          ]
        },
        {
          "name": "stderr",
          "output_type": "stream",
          "text": [
            "Validation Epoch 2/3: 100%|██████████| 32/32 [00:03<00:00,  9.24it/s]\n"
          ]
        },
        {
          "name": "stdout",
          "output_type": "stream",
          "text": [
            "Epoch 2/3 - Validation Accuracy: 0.9940\n"
          ]
        },
        {
          "name": "stderr",
          "output_type": "stream",
          "text": [
            "Training in English Epoch:3/3: 100%|██████████| 125/125 [00:50<00:00,  2.48it/s, loss=0.00317]\n"
          ]
        },
        {
          "name": "stdout",
          "output_type": "stream",
          "text": [
            "Epoch 3/3 - Average Training Loss: 0.0091\n"
          ]
        },
        {
          "name": "stderr",
          "output_type": "stream",
          "text": [
            "Validation Epoch 3/3: 100%|██████████| 32/32 [00:03<00:00,  9.53it/s]"
          ]
        },
        {
          "name": "stdout",
          "output_type": "stream",
          "text": [
            "Epoch 3/3 - Validation Accuracy: 0.9940\n"
          ]
        },
        {
          "name": "stderr",
          "output_type": "stream",
          "text": [
            "\n"
          ]
        }
      ],
      "source": [
        "from torch.nn import CrossEntropyLoss\n",
        "from torch.optim import AdamW\n",
        "import numpy as np\n",
        "from sklearn.metrics import accuracy_score\n",
        "from tqdm import tqdm\n",
        "from torch.optim.lr_scheduler import StepLR\n",
        "\n",
        " # Loss function and optimizer\n",
        "loss_function = CrossEntropyLoss()\n",
        "optimizer = AdamW(model.parameters(), lr=5e-5)\n",
        "\n",
        "num_epochs = CONFIG['train_epochs']\n",
        "\n",
        "# Learning rate scheduler (optional)\n",
        "scheduler = StepLR(optimizer, step_size=1, gamma=0.1)\n",
        "\n",
        "for epoch in range(num_epochs):\n",
        "    # Training Phase ###############\n",
        "    model.train()\n",
        "    train_loss = 0\n",
        "\n",
        "    lang = CONFIG['train_lang']\n",
        "    train_bar = tqdm(train_loader, desc=f\"Training in {CONFIG['lang_dict'][lang]}. Epoch:{epoch+1}/{num_epochs}\")\n",
        "\n",
        "    for batch in train_bar:\n",
        "        input_ids, attention_mask, labels = [b.to(device) for b in batch]\n",
        "\n",
        "        # Forward pass\n",
        "        outputs = model(input_ids, attention_mask=attention_mask)\n",
        "        loss = loss_function(outputs.logits, labels)\n",
        "\n",
        "        # Backward pass and optimisation\n",
        "        optimizer.zero_grad()\n",
        "        loss.backward()\n",
        "        optimizer.step()\n",
        "\n",
        "        train_loss += loss.item()\n",
        "        train_bar.set_postfix(loss=loss.item())\n",
        "\n",
        "    avg_train_loss = train_loss / len(train_loader)\n",
        "    print(f\"Epoch {epoch+1}/{num_epochs} - Average Training Loss: {avg_train_loss:.4f}\")\n",
        "\n",
        "    # Update learning rate\n",
        "    scheduler.step()\n",
        "\n",
        "    # * VALIDAGTION PHASE **********************\n",
        "    model.eval()\n",
        "    val_predictions = []\n",
        "    val_true_labels = []\n",
        "\n",
        "    val_bar = tqdm(val_loader, desc=f\"Validation Epoch {epoch+1}/{num_epochs}\") # Initialise the progress bar.\n",
        "\n",
        "    with torch.no_grad():\n",
        "        for batch in val_bar:\n",
        "            input_ids, attention_mask, labels = [b.to(device) for b in batch]\n",
        "            outputs = model(input_ids, attention_mask=attention_mask)\n",
        "            logits = outputs.logits\n",
        "\n",
        "            logits = logits.detach().cpu().numpy()\n",
        "            label_ids = labels.to('cpu').numpy()\n",
        "\n",
        "            val_predictions.extend(np.argmax(logits, axis=1).flatten())\n",
        "            val_true_labels.extend(label_ids.flatten())\n",
        "\n",
        "        val_accuracy = accuracy_score(val_true_labels, val_predictions)\n",
        "        print(f\"Epoch {epoch+1}/{num_epochs} - Validation Accuracy: {val_accuracy:.4f}\")\n"
      ]
    },
    {
      "cell_type": "markdown",
      "metadata": {
        "id": "4W3uoEF6w_ov"
      },
      "source": [
        "### Save the Trained Model Local Dir"
      ]
    },
    {
      "cell_type": "code",
      "execution_count": null,
      "metadata": {
        "id": "Bq3GINwGxELY"
      },
      "outputs": [],
      "source": [
        "# tokenizer.save_pretrained(\"/content/drive/MyDrive/Colab Notebooks/pretrained_english_tokenizer\")\n",
        "\n",
        "# torch.save(model.state_dict(), '/content/drive/MyDrive/Colab Notebooks/pretrained_english_modelstate')\n"
      ]
    },
    {
      "cell_type": "markdown",
      "metadata": {
        "id": "6ZKZI3MPz42n"
      },
      "source": [
        " # TESTING SECTION"
      ]
    },
    {
      "cell_type": "markdown",
      "metadata": {
        "id": "eJLezZtQNHZd"
      },
      "source": [
        "### Choose test language dataset"
      ]
    },
    {
      "cell_type": "markdown",
      "metadata": {
        "id": "AkyDuANwNkBi"
      },
      "source": [
        "### Get Label from Label Id Function"
      ]
    },
    {
      "cell_type": "code",
      "execution_count": null,
      "metadata": {
        "id": "KLk6IPgQNi0Q"
      },
      "outputs": [],
      "source": [
        "def get_label(label_id):\n",
        "    label_dict = {0: \"entailment\", 1: \"neutral\", 2: \"contradiction\"}\n",
        "    return label_dict[label_id]"
      ]
    },
    {
      "cell_type": "markdown",
      "metadata": {
        "id": "aewO7BANxEv3"
      },
      "source": [
        "### Load Local Model and its Token Configs"
      ]
    },
    {
      "cell_type": "code",
      "execution_count": null,
      "metadata": {
        "colab": {
          "base_uri": "https://localhost:8080/"
        },
        "id": "4SpAd0P_xQo0",
        "outputId": "7bee5b66-42aa-44d1-f264-58f704a4dc6d"
      },
      "outputs": [
        {
          "data": {
            "text/plain": [
              "<All keys matched successfully>"
            ]
          },
          "execution_count": 23,
          "metadata": {},
          "output_type": "execute_result"
        }
      ],
      "source": [
        "from transformers import AutoTokenizer, AutoModelForSequenceClassification\n",
        "import torch\n",
        "\n",
        "device = torch.device(\"cuda\") if torch.cuda.is_available else torch.device(\"cpu\")\n",
        "\n",
        "# Retrieve the saved tokenised configurations\n",
        "test_tokenizer = AutoTokenizer.from_pretrained(\"/content/drive/MyDrive/Colab Notebooks/pretrained_english_tokenizer\")\n",
        "\n",
        "# Instantiate a model with the same configuration used during training\n",
        "model = AutoModelForSequenceClassification.from_pretrained(\n",
        "    \"MoritzLaurer/mDeBERTa-v3-base-xnli-multilingual-nli-2mil7\",\n",
        "    num_labels=3\n",
        ")\n",
        "model.to(device)\n",
        "\n",
        "# Load the saved state dictionary\n",
        "model.load_state_dict(torch.load(\"/content/drive/MyDrive/Colab Notebooks/pretrained_english_modelstate\"))\n"
      ]
    },
    {
      "cell_type": "markdown",
      "metadata": {
        "id": "OgRq_Q4n8LcW"
      },
      "source": [
        "### Load Entire Test dataset"
      ]
    },
    {
      "cell_type": "code",
      "execution_count": null,
      "metadata": {
        "id": "J5hkWDEFPaxn"
      },
      "outputs": [],
      "source": [
        "import pandas as pd\n",
        "\n",
        "def load_test_data(lang):\n",
        "    test_data = pd.read_csv('/content/drive/MyDrive/Datasets/XNLI-1.0/XNLI-1.0/xnli.test.tsv', delimiter='\\t',usecols=['language','sentence1','sentence2','gold_label'])\n",
        "\n",
        "    if lang != 'all':\n",
        "        df = get_dataset_by_language(test_data, lang)\n",
        "    else:\n",
        "        df = test_data\n",
        "    return df\n"
      ]
    },
    {
      "cell_type": "markdown",
      "metadata": {
        "id": "buiYQQQ_1M98"
      },
      "source": [
        "### Fetch Chosen Language Dataset from entire dataset, Tokenize Sequences and create test_loader function"
      ]
    },
    {
      "cell_type": "code",
      "execution_count": null,
      "metadata": {
        "id": "7beWyxf01V3B"
      },
      "outputs": [],
      "source": [
        "from torch.utils.data import DataLoader, TensorDataset\n",
        "import torch\n",
        "\n",
        "def create_loader(t_df, batch_size):\n",
        "    label_mapping = {\"entailment\":0, \"neutral\":1, \"contradiction\":2}\n",
        "    t_df = t_df.copy()\n",
        "    t_df['gold_label_numeric'] = t_df['gold_label'].map(label_mapping)\n",
        "\n",
        "    y_test = t_df['gold_label_numeric']\n",
        "    X_test = t_df[['sentence1', 'sentence2']]\n",
        "\n",
        "    tokenized_test = tokenize_sequence(X_test, test_tokenizer)\n",
        "\n",
        "    # Convert tokenised data into TensorDataset\n",
        "    test_dataset = TensorDataset(tokenized_test['input_ids'], tokenized_test['attention_mask'], torch.tensor(y_test.tolist()))\n",
        "\n",
        "    # Create DataLoaders\n",
        "    loader = DataLoader(test_dataset, batch_size=batch_size, shuffle=False)\n",
        "\n",
        "    return loader\n"
      ]
    },
    {
      "cell_type": "markdown",
      "metadata": {
        "id": "dDpi_k_R-ZhJ"
      },
      "source": [
        "## Test Loop"
      ]
    },
    {
      "cell_type": "markdown",
      "metadata": {
        "id": "JNmBcC8Ox7Ss"
      },
      "source": [
        "### Run Test On Chosen Language"
      ]
    },
    {
      "cell_type": "code",
      "execution_count": null,
      "metadata": {
        "colab": {
          "base_uri": "https://localhost:8080/"
        },
        "id": "AQOMgefqDO9q",
        "outputId": "0837003c-ae85-47fd-ed22-a0c7b133f36a"
      },
      "outputs": [
        {
          "name": "stderr",
          "output_type": "stream",
          "text": [
            "Testing in Swahili epoch:1/2: 100%|██████████| 157/157 [00:44<00:00,  3.51it/s]\n"
          ]
        },
        {
          "name": "stdout",
          "output_type": "stream",
          "text": [
            "epoch accuracy:0.7435\n"
          ]
        },
        {
          "name": "stderr",
          "output_type": "stream",
          "text": [
            "Testing in Swahili epoch:2/2: 100%|██████████| 157/157 [00:45<00:00,  3.42it/s]"
          ]
        },
        {
          "name": "stdout",
          "output_type": "stream",
          "text": [
            "epoch accuracy:0.7435\n",
            "Av. Accuracy:0.7435\n"
          ]
        },
        {
          "name": "stderr",
          "output_type": "stream",
          "text": [
            "\n"
          ]
        }
      ],
      "source": [
        "import numpy as np\n",
        "from tqdm import tqdm\n",
        "\n",
        "# Set the model to evaluation mode\n",
        "model.eval()\n",
        "\n",
        "# Initialize variables\n",
        "actual_labels = []\n",
        "predicted_labels = []\n",
        "av_accuracies = []\n",
        "test_accuracy = 0\n",
        "nb_test_steps = 0\n",
        "\n",
        "num_epochs = 2\n",
        "lang = 'sw'\n",
        "full_lang = CONFIG['lang_dict'][lang]\n",
        "batch_size = 32\n",
        "\n",
        "test_df = load_test_data(lang)\n",
        "\n",
        "test_loader = create_loader(test_df, batch_size)\n",
        "for epoch in range(num_epochs):\n",
        "    test_bar = tqdm(test_loader, desc=f\"Testing in {full_lang} epoch:{epoch+1}/{num_epochs}\")\n",
        "    with torch.no_grad():\n",
        "        for i, batch in enumerate(test_bar):\n",
        "            batch = tuple(t.to(device) for t in batch)\n",
        "            b_input_ids, b_input_mask, b_labels = batch\n",
        "\n",
        "            # Forward pass\n",
        "            outputs = model(b_input_ids, attention_mask=b_input_mask)\n",
        "            logits = outputs.logits\n",
        "            logits = logits.detach().cpu().numpy()\n",
        "            label_ids = b_labels.to('cpu').numpy()\n",
        "\n",
        "            # Save predictions and actual labels\n",
        "            actual_labels.extend(label_ids)\n",
        "            predictions = np.argmax(logits, axis=1)\n",
        "            predicted_labels.extend(predictions)\n",
        "\n",
        "            # Calculate and accumulate accuracy\n",
        "            tmp_test_accuracy = np.mean(predictions == label_ids)\n",
        "            test_accuracy += tmp_test_accuracy\n",
        "            nb_test_steps += 1\n",
        "\n",
        "        # Calculate final accuracy\n",
        "        final_test_accuracy = test_accuracy / nb_test_steps\n",
        "        av_accuracies.append(final_test_accuracy)\n",
        "        print(f\"epoch accuracy:{final_test_accuracy:.4f}\")\n",
        "print(f\"Av. Accuracy:{(sum(av_accuracies)/len(av_accuracies)):.4f}\")\n"
      ]
    },
    {
      "cell_type": "markdown",
      "metadata": {
        "id": "mFxJmFfiaJKp"
      },
      "source": [
        "### Print out ome Samples"
      ]
    },
    {
      "cell_type": "code",
      "execution_count": null,
      "metadata": {
        "colab": {
          "base_uri": "https://localhost:8080/"
        },
        "id": "lEk6PEOPVUzz",
        "outputId": "c8d58c22-a037-4a17-ed92-f187123320ca"
      },
      "outputs": [
        {
          "name": "stdout",
          "output_type": "stream",
          "text": [
            "Example 1:\n",
            "Sentence 1: Naam, sikukuwa nafikiri juu ya hilo, lakini nilichanganyikiwa sana, na, hatimaye nikaendelea kuzungumza naye tena.\n",
            "Sentence 2: Sijaongea na yeye tena.\n",
            "Predicted label: contradiction\n",
            "Actual label: contradiction\n",
            "\n",
            "\n",
            "Example 2:\n",
            "Sentence 1: Naam, sikukuwa nafikiri juu ya hilo, lakini nilichanganyikiwa sana, na, hatimaye nikaendelea kuzungumza naye tena.\n",
            "Sentence 2: Nilikasirika sana kwamba nikaanza kuzungumza naye tena.\n",
            "Predicted label: entailment\n",
            "Actual label: entailment\n",
            "\n",
            "\n",
            "Example 3:\n",
            "Sentence 1: Naam, sikukuwa nafikiri juu ya hilo, lakini nilichanganyikiwa sana, na, hatimaye nikaendelea kuzungumza naye tena.\n",
            "Sentence 2: Tulikuwa na majadiliano mazuri.\n",
            "Predicted label: neutral\n",
            "Actual label: neutral\n",
            "\n",
            "\n",
            "Example 4:\n",
            "Sentence 1: Nami nilifikiri kwamba ilikuwa ni fursa, na bado, bado, nilikuwa pekee wa tisa mbili na mbili Ex-O ambayo ilikuwa uwanja wangu wa AFFC Air Force Career.\n",
            "Sentence 2: Sikujua kwamba sikuwa mtu wa pekee kuwa uwanjani leo.\n",
            "Predicted label: contradiction\n",
            "Actual label: neutral\n",
            "\n",
            "\n",
            "Example 5:\n",
            "Sentence 1: Nami nilifikiri kwamba ilikuwa ni fursa, na bado, bado, nilikuwa pekee wa tisa mbili na mbili Ex-O ambayo ilikuwa uwanja wangu wa AFFC Air Force Career.\n",
            "Sentence 2: Nilikuwa chini ya hisia kwamba nilikuwa pekee na nambari hiyo katika uwanja wa Kazi ya Air Force ya AFFC.\n",
            "Predicted label: entailment\n",
            "Actual label: entailment\n",
            "\n",
            "\n",
            "Example 6:\n",
            "Sentence 1: Nami nilifikiri kwamba ilikuwa ni fursa, na bado, bado, nilikuwa pekee wa tisa mbili na mbili Ex-O ambayo ilikuwa uwanja wangu wa AFFC Air Force Career.\n",
            "Sentence 2: Sisi sote tumepewa idadi sawa sawa bila kujali marupurupu tuliyoahidi kupewa, ilikuwa ni uongo.\n",
            "Predicted label: contradiction\n",
            "Actual label: contradiction\n",
            "\n",
            "\n",
            "Example 7:\n",
            "Sentence 1: Walinieleza ya kwamba mwishowe ningeitiwa jamaa fulani ambaye tungepatana naye.\n",
            "Sentence 2: Sikuambiwa chochote kuhusu kukutana na mtu yeyote.\n",
            "Predicted label: contradiction\n",
            "Actual label: contradiction\n",
            "\n",
            "\n",
            "Example 8:\n",
            "Sentence 1: Walinieleza ya kwamba mwishowe ningeitiwa jamaa fulani ambaye tungepatana naye.\n",
            "Sentence 2: Niliambiwa mtu angeitwa aje ili nikutane naye.\n",
            "Predicted label: entailment\n",
            "Actual label: entailment\n",
            "\n",
            "\n",
            "Example 9:\n",
            "Sentence 1: Walinieleza ya kwamba mwishowe ningeitiwa jamaa fulani ambaye tungepatana naye.\n",
            "Sentence 2: Alikuja akiwa amechelewa.\n",
            "Predicted label: neutral\n",
            "Actual label: neutral\n",
            "\n",
            "\n",
            "Example 10:\n",
            "Sentence 1: Kuna mengi ambayo unaweza kuzungumzia kuhusu hilo lakini  nitaachana nayo tu.\n",
            "Sentence 2: Nataka kukuambia kila kitu ninachokijua kuhusu mambo hayo\n",
            "Predicted label: neutral\n",
            "Actual label: contradiction\n",
            "\n",
            "\n"
          ]
        }
      ],
      "source": [
        "from sklearn.metrics import classification_report\n",
        "test_samples = 10\n",
        " # Print requested number of examples\n",
        "for i in range(test_samples):\n",
        "    print(f\"Example {i + 1}:\")\n",
        "    print(f\"Sentence 1: {test_df.iloc[i]['sentence1']}\")\n",
        "    print(f\"Sentence 2: {test_df.iloc[i]['sentence2']}\")\n",
        "    print(f\"Predicted label: {get_label(predicted_labels[i])}\")\n",
        "    print(f\"Actual label: {get_label(actual_labels[i])}\")\n",
        "    print(\"\\n\")\n"
      ]
    },
    {
      "cell_type": "markdown",
      "metadata": {
        "id": "L_AgE1PnBnev"
      },
      "source": [
        "## LOOP TEST FOR ALL LANGUAGES."
      ]
    },
    {
      "cell_type": "code",
      "execution_count": null,
      "metadata": {
        "colab": {
          "background_save": true,
          "base_uri": "https://localhost:8080/"
        },
        "id": "FqObGqsgkByJ",
        "outputId": "d3e404c2-23ba-41e7-a2e1-9bfe6cf48af1"
      },
      "outputs": [
        {
          "name": "stderr",
          "output_type": "stream",
          "text": [
            "Testing All. epoch:1/1: 100%|██████████| 157/157 [00:39<00:00,  3.99it/s]"
          ]
        },
        {
          "name": "stdout",
          "output_type": "stream",
          "text": [
            "\n",
            "\n",
            "Performance Metrics for Thai on English Trained Model\n",
            "F1 Scores by Language: {'th': 0.7756858006167148}\n",
            "\n",
            "\n",
            "{'th': {'0': {'precision': 0.7977099236641222, 'recall': 0.7508982035928143, 'f1-score': 0.7735965453423813, 'support': 1670}, '1': {'precision': 0.6961149547631719, 'recall': 0.7832335329341318, 'f1-score': 0.7371090448013524, 'support': 1670}, '2': {'precision': 0.8454137267479154, 'recall': 0.7892215568862275, 'f1-score': 0.8163518117064106, 'support': 1670}, 'accuracy': 0.7744510978043913, 'macro avg': {'precision': 0.7797462017250698, 'recall': 0.7744510978043913, 'f1-score': 0.7756858006167148, 'support': 5010}, 'weighted avg': {'precision': 0.7797462017250698, 'recall': 0.7744510978043913, 'f1-score': 0.7756858006167148, 'support': 5010}}}\n"
          ]
        },
        {
          "name": "stderr",
          "output_type": "stream",
          "text": [
            "\n"
          ]
        }
      ],
      "source": [
        "import torch\n",
        "from sklearn.metrics import classification_report\n",
        "import pandas as pd\n",
        "\n",
        "# Assuming test_df includes a 'language' column\n",
        "languages = test_df['language'].unique()\n",
        "metrics_dict = {}\n",
        "\n",
        "# Initialize dictionaries for predictions and actual labels\n",
        "language_predictions = {lang: [] for lang in languages}\n",
        "language_actuals = {lang: [] for lang in languages}\n",
        "num_epochs = 1\n",
        "batch_size = 32\n",
        "langu = 'th'\n",
        "\n",
        "model.eval()\n",
        "with torch.no_grad():\n",
        "    test_df = load_test_data(langu)\n",
        "    test_loader = create_loader(test_df, batch_size)\n",
        "    for epoch in range(num_epochs):\n",
        "        test_bar = tqdm(test_loader, desc=f\"Testing All. epoch:{epoch+1}/{num_epochs}\")\n",
        "        for i, batch in enumerate(test_bar):\n",
        "            b_input_ids, b_input_mask, b_labels = tuple(t.to(device) for t in batch)\n",
        "\n",
        "            # Forward pass, calculate logit predictions\n",
        "            outputs = model(b_input_ids, attention_mask=b_input_mask)\n",
        "            predictions = torch.argmax(outputs.logits, dim=-1)\n",
        "\n",
        "            # Move predictions and labels back to CPU\n",
        "            predictions = predictions.detach().cpu().numpy()\n",
        "            label_ids = b_labels.to('cpu').numpy()\n",
        "\n",
        "            # Associate predictions with languages using indices in test_df\n",
        "            for idx, pred in enumerate(predictions):\n",
        "                actual = label_ids[idx]\n",
        "                lang = test_df.iloc[i * test_loader.batch_size + idx]['language']\n",
        "                language_predictions[lang].append(pred)\n",
        "                language_actuals[lang].append(actual)\n",
        "        print(\"\\n\")\n",
        "        # Calculate and print performance metrics for each language\n",
        "        for lang in languages:\n",
        "            report = classification_report(language_actuals[lang], language_predictions[lang], output_dict=True)\n",
        "            metrics_dict[lang] = report\n",
        "            print(f\"Performance Metrics for {CONFIG['lang_dict'][lang]} on {CONFIG['lang_dict'][CONFIG['train_lang']]} Trained Model\")\n",
        "\n",
        "            f1_scores = {lang: metrics_dict[lang]['weighted avg']['f1-score'] for lang in languages}\n",
        "            print(\"F1 Scores by Language:\", f1_scores)\n",
        "\n",
        "            print(\"\\n\")\n",
        "    print(metrics_dict)\n",
        "\n"
      ]
    },
    {
      "cell_type": "markdown",
      "metadata": {
        "id": "3NTiYZzRbOd1"
      },
      "source": [
        "## VISUALISATION SECTION"
      ]
    },
    {
      "cell_type": "markdown",
      "metadata": {
        "id": "Bkn0giqIpA-2"
      },
      "source": [
        "### Performance Metrics Graph\n",
        "\n"
      ]
    },
    {
      "cell_type": "code",
      "execution_count": null,
      "metadata": {
        "colab": {
          "base_uri": "https://localhost:8080/",
          "height": 373
        },
        "id": "KTXgII58pH8O",
        "outputId": "3f45d89d-92e5-4b02-daba-1ad1bb5d6e71"
      },
      "outputs": [
        {
          "ename": "KeyError",
          "evalue": "ignored",
          "output_type": "error",
          "traceback": [
            "\u001b[0;31m---------------------------------------------------------------------------\u001b[0m",
            "\u001b[0;31mKeyError\u001b[0m                                  Traceback (most recent call last)",
            "\u001b[0;32m<ipython-input-126-0922fc53bacf>\u001b[0m in \u001b[0;36m<cell line: 9>\u001b[0;34m()\u001b[0m\n\u001b[1;32m      7\u001b[0m \u001b[0;34m\u001b[0m\u001b[0m\n\u001b[1;32m      8\u001b[0m \u001b[0mmetrics\u001b[0m \u001b[0;34m=\u001b[0m \u001b[0;34m[\u001b[0m\u001b[0;34m'Accuracy'\u001b[0m\u001b[0;34m,\u001b[0m \u001b[0;34m'Precision'\u001b[0m\u001b[0;34m,\u001b[0m \u001b[0;34m'Recall'\u001b[0m\u001b[0;34m,\u001b[0m \u001b[0;34m'F1 Score'\u001b[0m\u001b[0;34m]\u001b[0m\u001b[0;34m\u001b[0m\u001b[0;34m\u001b[0m\u001b[0m\n\u001b[0;32m----> 9\u001b[0;31m \u001b[0mf1_scores\u001b[0m \u001b[0;34m=\u001b[0m \u001b[0;34m{\u001b[0m\u001b[0mlang\u001b[0m\u001b[0;34m:\u001b[0m \u001b[0mmetrics_dict\u001b[0m\u001b[0;34m[\u001b[0m\u001b[0mlang\u001b[0m\u001b[0;34m]\u001b[0m\u001b[0;34m[\u001b[0m\u001b[0;34m'weighted avg'\u001b[0m\u001b[0;34m]\u001b[0m\u001b[0;34m[\u001b[0m\u001b[0;34m'f2_score'\u001b[0m\u001b[0;34m]\u001b[0m \u001b[0;32mfor\u001b[0m \u001b[0mlang\u001b[0m \u001b[0;32min\u001b[0m \u001b[0mlanguages\u001b[0m\u001b[0;34m}\u001b[0m\u001b[0;34m\u001b[0m\u001b[0;34m\u001b[0m\u001b[0m\n\u001b[0m\u001b[1;32m     10\u001b[0m \u001b[0mdata\u001b[0m \u001b[0;34m=\u001b[0m \u001b[0mnp\u001b[0m\u001b[0;34m.\u001b[0m\u001b[0mrandom\u001b[0m\u001b[0;34m.\u001b[0m\u001b[0mrand\u001b[0m\u001b[0;34m(\u001b[0m\u001b[0;36m4\u001b[0m\u001b[0;34m,\u001b[0m \u001b[0mlen\u001b[0m\u001b[0;34m(\u001b[0m\u001b[0mlanguages\u001b[0m\u001b[0;34m)\u001b[0m\u001b[0;34m)\u001b[0m  \u001b[0;31m# Replace with actual data\u001b[0m\u001b[0;34m\u001b[0m\u001b[0;34m\u001b[0m\u001b[0m\n\u001b[1;32m     11\u001b[0m \u001b[0;34m\u001b[0m\u001b[0m\n",
            "\u001b[0;32m<ipython-input-126-0922fc53bacf>\u001b[0m in \u001b[0;36m<dictcomp>\u001b[0;34m(.0)\u001b[0m\n\u001b[1;32m      7\u001b[0m \u001b[0;34m\u001b[0m\u001b[0m\n\u001b[1;32m      8\u001b[0m \u001b[0mmetrics\u001b[0m \u001b[0;34m=\u001b[0m \u001b[0;34m[\u001b[0m\u001b[0;34m'Accuracy'\u001b[0m\u001b[0;34m,\u001b[0m \u001b[0;34m'Precision'\u001b[0m\u001b[0;34m,\u001b[0m \u001b[0;34m'Recall'\u001b[0m\u001b[0;34m,\u001b[0m \u001b[0;34m'F1 Score'\u001b[0m\u001b[0;34m]\u001b[0m\u001b[0;34m\u001b[0m\u001b[0;34m\u001b[0m\u001b[0m\n\u001b[0;32m----> 9\u001b[0;31m \u001b[0mf1_scores\u001b[0m \u001b[0;34m=\u001b[0m \u001b[0;34m{\u001b[0m\u001b[0mlang\u001b[0m\u001b[0;34m:\u001b[0m \u001b[0mmetrics_dict\u001b[0m\u001b[0;34m[\u001b[0m\u001b[0mlang\u001b[0m\u001b[0;34m]\u001b[0m\u001b[0;34m[\u001b[0m\u001b[0;34m'weighted avg'\u001b[0m\u001b[0;34m]\u001b[0m\u001b[0;34m[\u001b[0m\u001b[0;34m'f2_score'\u001b[0m\u001b[0;34m]\u001b[0m \u001b[0;32mfor\u001b[0m \u001b[0mlang\u001b[0m \u001b[0;32min\u001b[0m \u001b[0mlanguages\u001b[0m\u001b[0;34m}\u001b[0m\u001b[0;34m\u001b[0m\u001b[0;34m\u001b[0m\u001b[0m\n\u001b[0m\u001b[1;32m     10\u001b[0m \u001b[0mdata\u001b[0m \u001b[0;34m=\u001b[0m \u001b[0mnp\u001b[0m\u001b[0;34m.\u001b[0m\u001b[0mrandom\u001b[0m\u001b[0;34m.\u001b[0m\u001b[0mrand\u001b[0m\u001b[0;34m(\u001b[0m\u001b[0;36m4\u001b[0m\u001b[0;34m,\u001b[0m \u001b[0mlen\u001b[0m\u001b[0;34m(\u001b[0m\u001b[0mlanguages\u001b[0m\u001b[0;34m)\u001b[0m\u001b[0;34m)\u001b[0m  \u001b[0;31m# Replace with actual data\u001b[0m\u001b[0;34m\u001b[0m\u001b[0;34m\u001b[0m\u001b[0m\n\u001b[1;32m     11\u001b[0m \u001b[0;34m\u001b[0m\u001b[0m\n",
            "\u001b[0;31mKeyError\u001b[0m: 'Arabic'"
          ]
        }
      ],
      "source": [
        "import matplotlib.pyplot as plt\n",
        "import numpy as np\n",
        "\n",
        "languages = []\n",
        "for k, v in CONFIG['lang_dict'].items():\n",
        "    languages.append(v)\n",
        "\n",
        "metrics = ['Accuracy', 'Precision', 'Recall', 'F1 Score']\n",
        "f1_scores = {lang: metrics_dict[lang]['weighted avg']['f1_score'] for lang in languages}\n",
        "data = np.random.rand(4, len(languages))\n",
        "\n",
        "fig, ax = plt.subplots()\n",
        "bar_width = 0.2\n",
        "opacity = 0.8\n",
        "\n",
        "for i in range(len(metrics)):\n",
        "    plt.bar(np.arange(len(languages)) + i * bar_width, data[i], bar_width, alpha=opacity, label=metrics[i])\n",
        "\n",
        "plt.xlabel('Language')\n",
        "plt.ylabel('Scores')\n",
        "plt.title('Model Performance Metrics by Language')\n",
        "plt.xticks(np.arange(len(languages)) + bar_width, languages)\n",
        "plt.legend()\n",
        "plt.xticks(rotation=45)\n",
        "plt.tight_layout()\n",
        "plt.show()\n",
        "\n",
        "\n",
        "\n",
        "import matplotlib.pyplot as plt\n",
        "import numpy as np\n",
        "\n",
        "languages = ['English', 'Spanish', 'French', 'Chinese', 'Arabic', 'Yoruba', 'Fulfulde', 'Hausa']\n",
        "metrics = ['Accuracy', 'Precision', 'Recall', 'F1 Score']\n",
        "data = np.random.rand(4, len(languages))  # Replace with actual data\n",
        "\n",
        "fig, ax = plt.subplots()\n",
        "bar_width = 0.2\n",
        "opacity = 0.8\n",
        "\n",
        "for i in range(len(metrics)):\n",
        "    plt.bar(np.arange(len(languages)) + i * bar_width, data[i], bar_width, alpha=opacity, label=metrics[i])\n",
        "\n",
        "plt.xlabel('Language')\n",
        "plt.ylabel('Scores')\n",
        "plt.title('Model Performance Metrics by Language')\n",
        "plt.xticks(np.arange(len(languages)) + bar_width, languages)\n",
        "plt.legend()\n",
        "plt.xticks(rotation=45)\n",
        "plt.tight_layout()\n",
        "plt.show()\n"
      ]
    },
    {
      "cell_type": "markdown",
      "metadata": {
        "id": "5PneDt2gx6_A"
      },
      "source": [
        "### Accuracy Graph"
      ]
    },
    {
      "cell_type": "code",
      "execution_count": null,
      "metadata": {
        "colab": {
          "base_uri": "https://localhost:8080/",
          "height": 618
        },
        "id": "8q6TME0WyeRQ",
        "outputId": "f571b9f6-0020-48c9-be7b-a37d5068c17a"
      },
      "outputs": [
        {
          "data": {
            "image/png": "[encoded data removed]",
            "text/plain": [
              "<Figure size 1000x600 with 1 Axes>"
            ]
          },
          "metadata": {},
          "output_type": "display_data"
        }
      ],
      "source": [
        "import matplotlib.pyplot as plt\n",
        "import numpy as np\n",
        "\n",
        "languages = ['Arabic', 'Bulgaria','German','Greek','English','Spanish','French',\n",
        "             'Hindi','Russian','Swahili','Thai','Turkish','Urdu', 'Vietnamese','Chinese']\n",
        "accuracies = [0.7873, 0.8169, 0.8139, 0.8027, 0.8626, 0.8237, 0.8142, 0.7595, 0.8016, 0.7443, 0.7721, 0.7849, 0.7297, 0.7816, 0.7989]\n",
        "colours = colors = plt.cm.viridis(np.linspace(0, 1, len(languages)))\n",
        "#  ['blue', 'green', 'red', 'cyan', 'magenta', 'yellow', 'red', 'black', 'purple', 'magenta',\n",
        "#            'skyblue', 'grey', 'darkred', 'purple', 'yellow']\n",
        "\n",
        "plt.figure(figsize=(10, 6))\n",
        "plt.bar(languages, accuracies, color=colours, alpha=0.8)\n",
        "plt.xlabel('Language')\n",
        "plt.ylabel('Accuracy')\n",
        "plt.title('Model Accuracy Across Different Languages')\n",
        "plt.xticks(rotation=45)\n",
        "plt.ylim(0, 1)  # Set y-axis limit to show accuracy range from 0 to 1\n",
        "plt.show()"
      ]
    },
    {
      "cell_type": "markdown",
      "metadata": {
        "id": "nGVmSwp5qeDd"
      },
      "source": [
        "### Language-specific Performance Heatmap"
      ]
    },
    {
      "cell_type": "code",
      "execution_count": null,
      "metadata": {
        "id": "MYGc1Pt8qkns"
      },
      "outputs": [],
      "source": [
        "import seaborn as sns\n",
        "import numpy as np\n",
        "\n",
        "# Synthetic data for demonstration, replace with actual model performance data\n",
        "performance_data = np.random.rand(len(languages), len(languages))\n",
        "\n",
        "plt.figure(figsize=(10, 8))\n",
        "sns.heatmap(performance_data, annot=True, cmap='coolwarm', xticklabels=languages, yticklabels=languages)\n",
        "plt.title('Language-Specific Performance Heatmap')\n",
        "plt.xlabel('Test Language')\n",
        "plt.ylabel('Training Language')\n",
        "plt.show()\n"
      ]
    }
  ],
  "metadata": {
    "accelerator": "GPU",
    "colab": {
      "machine_shape": "hm",
      "provenance": [],
      "include_colab_link": true
    },
    "kernelspec": {
      "display_name": "Python 3",
      "name": "python3"
    },
    "language_info": {
      "name": "python"
    }
  },
  "nbformat": 4,
  "nbformat_minor": 0
}